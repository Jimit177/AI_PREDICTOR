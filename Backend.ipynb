{
 "cells": [
  {
   "cell_type": "markdown",
   "id": "71d13cb5",
   "metadata": {},
   "source": [
    "# 🧠 Backend Pipeline for Options Prediction\n",
    "\n",
    "This notebook performs the complete backend logic for building an AI-based directional prediction system for NIFTY and BANKNIFTY options trading. It includes:\n",
    "\n",
    "- Data preprocessing and labeling\n",
    "- Feature engineering (technical indicators)\n",
    "- Model training for multiple time intervals\n",
    "- Model saving for real-time prediction use in `app.py`\n",
    "\n",
    "This pipeline automates the creation of frame-wise signals used in the Streamlit UI.\n"
   ]
  },
  {
   "cell_type": "code",
   "execution_count": 1,
   "id": "870ae75d",
   "metadata": {
    "execution": {
     "iopub.execute_input": "2025-07-21T14:16:15.455285Z",
     "iopub.status.busy": "2025-07-21T14:16:15.455285Z",
     "iopub.status.idle": "2025-07-21T14:16:28.124072Z",
     "shell.execute_reply": "2025-07-21T14:16:28.122088Z"
    }
   },
   "outputs": [],
   "source": [
    "import yfinance as yf\n",
    "import pandas as pd\n",
    "import ta\n",
    "import os\n",
    "from sklearn.model_selection import train_test_split\n",
    "from sklearn.metrics import classification_report, confusion_matrix\n",
    "from xgboost import XGBClassifier\n",
    "import joblib\n"
   ]
  },
  {
   "cell_type": "code",
   "execution_count": 2,
   "id": "97c9a95e",
   "metadata": {
    "execution": {
     "iopub.execute_input": "2025-07-21T14:16:28.130075Z",
     "iopub.status.busy": "2025-07-21T14:16:28.129075Z",
     "iopub.status.idle": "2025-07-21T14:16:28.140214Z",
     "shell.execute_reply": "2025-07-21T14:16:28.137190Z"
    }
   },
   "outputs": [],
   "source": [
    "tickers = {\n",
    "    \"NIFTY\": \"^NSEI\",\n",
    "    \"BANKNIFTY\": \"^NSEBANK\"\n",
    "}\n",
    "\n",
    "intervals = {\n",
    "    \"1m\": \"7d\",\n",
    "    \"5m\": \"60d\",\n",
    "    \"15m\": \"60d\",\n",
    "    \"30m\": \"60d\",\n",
    "    \"60m\": \"60d\"\n",
    "}\n"
   ]
  },
  {
   "cell_type": "code",
   "execution_count": 3,
   "id": "29d7007d",
   "metadata": {
    "execution": {
     "iopub.execute_input": "2025-07-21T14:16:28.146206Z",
     "iopub.status.busy": "2025-07-21T14:16:28.145211Z",
     "iopub.status.idle": "2025-07-21T14:16:37.905342Z",
     "shell.execute_reply": "2025-07-21T14:16:37.903347Z"
    }
   },
   "outputs": [
    {
     "name": "stderr",
     "output_type": "stream",
     "text": [
      "C:\\Users\\Jimit\\AppData\\Local\\Temp\\ipykernel_33780\\3630785718.py:4: FutureWarning: YF.download() has changed argument auto_adjust default to True\n",
      "  df = yf.download(ticker_symbol, interval=interval, period=period)\n"
     ]
    },
    {
     "name": "stderr",
     "output_type": "stream",
     "text": [
      "\r",
      "[*********************100%***********************]  1 of 1 completed"
     ]
    },
    {
     "name": "stderr",
     "output_type": "stream",
     "text": [
      "\n",
      "C:\\Users\\Jimit\\AppData\\Local\\Temp\\ipykernel_33780\\3630785718.py:4: FutureWarning: YF.download() has changed argument auto_adjust default to True\n",
      "  df = yf.download(ticker_symbol, interval=interval, period=period)\n"
     ]
    },
    {
     "name": "stdout",
     "output_type": "stream",
     "text": [
      "✅ Saved: nifty_banknifty_raw/NIFTY_1m_raw.csv\n"
     ]
    },
    {
     "name": "stderr",
     "output_type": "stream",
     "text": [
      "\r",
      "[*********************100%***********************]  1 of 1 completed"
     ]
    },
    {
     "name": "stderr",
     "output_type": "stream",
     "text": [
      "\n",
      "C:\\Users\\Jimit\\AppData\\Local\\Temp\\ipykernel_33780\\3630785718.py:4: FutureWarning: YF.download() has changed argument auto_adjust default to True\n",
      "  df = yf.download(ticker_symbol, interval=interval, period=period)\n"
     ]
    },
    {
     "name": "stdout",
     "output_type": "stream",
     "text": [
      "✅ Saved: nifty_banknifty_raw/NIFTY_5m_raw.csv\n"
     ]
    },
    {
     "name": "stderr",
     "output_type": "stream",
     "text": [
      "\r",
      "[*********************100%***********************]  1 of 1 completed"
     ]
    },
    {
     "name": "stderr",
     "output_type": "stream",
     "text": [
      "\n",
      "C:\\Users\\Jimit\\AppData\\Local\\Temp\\ipykernel_33780\\3630785718.py:4: FutureWarning: YF.download() has changed argument auto_adjust default to True\n",
      "  df = yf.download(ticker_symbol, interval=interval, period=period)\n"
     ]
    },
    {
     "name": "stdout",
     "output_type": "stream",
     "text": [
      "✅ Saved: nifty_banknifty_raw/NIFTY_15m_raw.csv\n"
     ]
    },
    {
     "name": "stderr",
     "output_type": "stream",
     "text": [
      "\r",
      "[*********************100%***********************]  1 of 1 completed"
     ]
    },
    {
     "name": "stderr",
     "output_type": "stream",
     "text": [
      "\n",
      "C:\\Users\\Jimit\\AppData\\Local\\Temp\\ipykernel_33780\\3630785718.py:4: FutureWarning: YF.download() has changed argument auto_adjust default to True\n",
      "  df = yf.download(ticker_symbol, interval=interval, period=period)\n"
     ]
    },
    {
     "name": "stdout",
     "output_type": "stream",
     "text": [
      "✅ Saved: nifty_banknifty_raw/NIFTY_30m_raw.csv\n"
     ]
    },
    {
     "name": "stderr",
     "output_type": "stream",
     "text": [
      "\r",
      "[*********************100%***********************]  1 of 1 completed"
     ]
    },
    {
     "name": "stderr",
     "output_type": "stream",
     "text": [
      "\n",
      "C:\\Users\\Jimit\\AppData\\Local\\Temp\\ipykernel_33780\\3630785718.py:4: FutureWarning: YF.download() has changed argument auto_adjust default to True\n",
      "  df = yf.download(ticker_symbol, interval=interval, period=period)\n"
     ]
    },
    {
     "name": "stdout",
     "output_type": "stream",
     "text": [
      "✅ Saved: nifty_banknifty_raw/NIFTY_60m_raw.csv\n"
     ]
    },
    {
     "name": "stderr",
     "output_type": "stream",
     "text": [
      "\r",
      "[*********************100%***********************]  1 of 1 completed"
     ]
    },
    {
     "name": "stderr",
     "output_type": "stream",
     "text": [
      "\n",
      "C:\\Users\\Jimit\\AppData\\Local\\Temp\\ipykernel_33780\\3630785718.py:4: FutureWarning: YF.download() has changed argument auto_adjust default to True\n",
      "  df = yf.download(ticker_symbol, interval=interval, period=period)\n"
     ]
    },
    {
     "name": "stdout",
     "output_type": "stream",
     "text": [
      "✅ Saved: nifty_banknifty_raw/BANKNIFTY_1m_raw.csv\n"
     ]
    },
    {
     "name": "stderr",
     "output_type": "stream",
     "text": [
      "\r",
      "[*********************100%***********************]  1 of 1 completed"
     ]
    },
    {
     "name": "stderr",
     "output_type": "stream",
     "text": [
      "\n",
      "C:\\Users\\Jimit\\AppData\\Local\\Temp\\ipykernel_33780\\3630785718.py:4: FutureWarning: YF.download() has changed argument auto_adjust default to True\n",
      "  df = yf.download(ticker_symbol, interval=interval, period=period)\n"
     ]
    },
    {
     "name": "stdout",
     "output_type": "stream",
     "text": [
      "✅ Saved: nifty_banknifty_raw/BANKNIFTY_5m_raw.csv\n"
     ]
    },
    {
     "name": "stderr",
     "output_type": "stream",
     "text": [
      "\r",
      "[*********************100%***********************]  1 of 1 completed"
     ]
    },
    {
     "name": "stderr",
     "output_type": "stream",
     "text": [
      "\n",
      "C:\\Users\\Jimit\\AppData\\Local\\Temp\\ipykernel_33780\\3630785718.py:4: FutureWarning: YF.download() has changed argument auto_adjust default to True\n",
      "  df = yf.download(ticker_symbol, interval=interval, period=period)\n"
     ]
    },
    {
     "name": "stdout",
     "output_type": "stream",
     "text": [
      "✅ Saved: nifty_banknifty_raw/BANKNIFTY_15m_raw.csv\n"
     ]
    },
    {
     "name": "stderr",
     "output_type": "stream",
     "text": [
      "\r",
      "[*********************100%***********************]  1 of 1 completed"
     ]
    },
    {
     "name": "stderr",
     "output_type": "stream",
     "text": [
      "\n",
      "C:\\Users\\Jimit\\AppData\\Local\\Temp\\ipykernel_33780\\3630785718.py:4: FutureWarning: YF.download() has changed argument auto_adjust default to True\n",
      "  df = yf.download(ticker_symbol, interval=interval, period=period)\n"
     ]
    },
    {
     "name": "stdout",
     "output_type": "stream",
     "text": [
      "✅ Saved: nifty_banknifty_raw/BANKNIFTY_30m_raw.csv\n"
     ]
    },
    {
     "name": "stderr",
     "output_type": "stream",
     "text": [
      "\r",
      "[*********************100%***********************]  1 of 1 completed"
     ]
    },
    {
     "name": "stdout",
     "output_type": "stream",
     "text": [
      "✅ Saved: nifty_banknifty_raw/BANKNIFTY_60m_raw.csv\n"
     ]
    },
    {
     "name": "stderr",
     "output_type": "stream",
     "text": [
      "\n"
     ]
    }
   ],
   "source": [
    "os.makedirs(\"nifty_banknifty_raw\", exist_ok=True)\n",
    "\n",
    "def fetch_raw_data(ticker_symbol, interval, period):\n",
    "    df = yf.download(ticker_symbol, interval=interval, period=period)\n",
    "    df.dropna(inplace=True)\n",
    "    return df\n",
    "\n",
    "for name, ticker in tickers.items():\n",
    "    for interval, period in intervals.items():\n",
    "        df = fetch_raw_data(ticker, interval, period)\n",
    "        path = f\"nifty_banknifty_raw/{name}_{interval}_raw.csv\"\n",
    "        df.to_csv(path)\n",
    "        print(f\"✅ Saved: {path}\")\n"
   ]
  },
  {
   "cell_type": "markdown",
   "id": "04b7eb96",
   "metadata": {},
   "source": [
    "## 🔧 Feature Engineering: Turning Raw Data into Predictive Signals\n",
    "\n",
    "In this section, we generate technical features that can help predict the direction of the market. These include:\n",
    "\n",
    "- Moving averages (SMA, EMA)\n",
    "- Volatility indicators (ATR)\n",
    "- Momentum indicators (RSI, MACD)\n",
    "- Rate of return and lag-based shifts\n",
    "\n",
    "These features help capture market patterns useful for model learning.\n"
   ]
  },
  {
   "cell_type": "code",
   "execution_count": 4,
   "id": "5abe9bec",
   "metadata": {
    "execution": {
     "iopub.execute_input": "2025-07-21T14:16:37.911348Z",
     "iopub.status.busy": "2025-07-21T14:16:37.911348Z",
     "iopub.status.idle": "2025-07-21T14:16:37.937711Z",
     "shell.execute_reply": "2025-07-21T14:16:37.934916Z"
    }
   },
   "outputs": [],
   "source": [
    "def apply_feature_engineering(df):\n",
    "    df = df.copy()\n",
    "\n",
    "    # Ensure numeric format\n",
    "    for col in ['Open', 'High', 'Low', 'Close', 'Volume']:\n",
    "        df[col] = pd.to_numeric(df[col], errors='coerce')\n",
    "\n",
    "    df.dropna(subset=['Open', 'High', 'Low', 'Close', 'Volume'], inplace=True)\n",
    "\n",
    "    # Technical Indicators\n",
    "    df['rsi'] = ta.momentum.RSIIndicator(close=df['Close']).rsi()\n",
    "    macd = ta.trend.MACD(close=df['Close'])\n",
    "    df['macd'] = macd.macd()\n",
    "    df['macd_signal'] = macd.macd_signal()\n",
    "    df['ema_20'] = ta.trend.EMAIndicator(close=df['Close'], window=20).ema_indicator()\n",
    "    df['ema_50'] = ta.trend.EMAIndicator(close=df['Close'], window=50).ema_indicator()\n",
    "    df['atr'] = ta.volatility.AverageTrueRange(high=df['High'], low=df['Low'], close=df['Close']).average_true_range()\n",
    "\n",
    "    df.dropna(inplace=True)\n",
    "    return df\n"
   ]
  },
  {
   "cell_type": "code",
   "execution_count": 5,
   "id": "1ee6f738",
   "metadata": {
    "execution": {
     "iopub.execute_input": "2025-07-21T14:16:37.944717Z",
     "iopub.status.busy": "2025-07-21T14:16:37.943717Z",
     "iopub.status.idle": "2025-07-21T14:16:39.223021Z",
     "shell.execute_reply": "2025-07-21T14:16:39.220995Z"
    }
   },
   "outputs": [
    {
     "name": "stderr",
     "output_type": "stream",
     "text": [
      "C:\\Users\\Jimit\\AppData\\Local\\Temp\\ipykernel_33780\\313334127.py:6: UserWarning: Could not infer format, so each element will be parsed individually, falling back to `dateutil`. To ensure parsing is consistent and as-expected, please specify a format.\n",
      "  df = pd.read_csv(path, index_col=0, parse_dates=True)\n"
     ]
    },
    {
     "name": "stderr",
     "output_type": "stream",
     "text": [
      "C:\\Users\\Jimit\\AppData\\Local\\Temp\\ipykernel_33780\\313334127.py:6: UserWarning: Could not infer format, so each element will be parsed individually, falling back to `dateutil`. To ensure parsing is consistent and as-expected, please specify a format.\n",
      "  df = pd.read_csv(path, index_col=0, parse_dates=True)\n"
     ]
    },
    {
     "name": "stdout",
     "output_type": "stream",
     "text": [
      "✅ Processed and saved: NIFTY_1m_processed.csv\n",
      "✅ Processed and saved: NIFTY_5m_processed.csv\n"
     ]
    },
    {
     "name": "stderr",
     "output_type": "stream",
     "text": [
      "C:\\Users\\Jimit\\AppData\\Local\\Temp\\ipykernel_33780\\313334127.py:6: UserWarning: Could not infer format, so each element will be parsed individually, falling back to `dateutil`. To ensure parsing is consistent and as-expected, please specify a format.\n",
      "  df = pd.read_csv(path, index_col=0, parse_dates=True)\n",
      "C:\\Users\\Jimit\\AppData\\Local\\Temp\\ipykernel_33780\\313334127.py:6: UserWarning: Could not infer format, so each element will be parsed individually, falling back to `dateutil`. To ensure parsing is consistent and as-expected, please specify a format.\n",
      "  df = pd.read_csv(path, index_col=0, parse_dates=True)\n",
      "C:\\Users\\Jimit\\AppData\\Local\\Temp\\ipykernel_33780\\313334127.py:6: UserWarning: Could not infer format, so each element will be parsed individually, falling back to `dateutil`. To ensure parsing is consistent and as-expected, please specify a format.\n",
      "  df = pd.read_csv(path, index_col=0, parse_dates=True)\n"
     ]
    },
    {
     "name": "stdout",
     "output_type": "stream",
     "text": [
      "✅ Processed and saved: NIFTY_15m_processed.csv\n",
      "✅ Processed and saved: NIFTY_30m_processed.csv\n",
      "✅ Processed and saved: NIFTY_60m_processed.csv\n"
     ]
    },
    {
     "name": "stderr",
     "output_type": "stream",
     "text": [
      "C:\\Users\\Jimit\\AppData\\Local\\Temp\\ipykernel_33780\\313334127.py:6: UserWarning: Could not infer format, so each element will be parsed individually, falling back to `dateutil`. To ensure parsing is consistent and as-expected, please specify a format.\n",
      "  df = pd.read_csv(path, index_col=0, parse_dates=True)\n",
      "C:\\Users\\Jimit\\AppData\\Local\\Temp\\ipykernel_33780\\313334127.py:6: UserWarning: Could not infer format, so each element will be parsed individually, falling back to `dateutil`. To ensure parsing is consistent and as-expected, please specify a format.\n",
      "  df = pd.read_csv(path, index_col=0, parse_dates=True)\n"
     ]
    },
    {
     "name": "stdout",
     "output_type": "stream",
     "text": [
      "✅ Processed and saved: BANKNIFTY_1m_processed.csv\n"
     ]
    },
    {
     "name": "stdout",
     "output_type": "stream",
     "text": [
      "✅ Processed and saved: BANKNIFTY_5m_processed.csv\n",
      "✅ Processed and saved: BANKNIFTY_15m_processed.csv\n",
      "✅ Processed and saved: BANKNIFTY_30m_processed.csv\n"
     ]
    },
    {
     "name": "stderr",
     "output_type": "stream",
     "text": [
      "C:\\Users\\Jimit\\AppData\\Local\\Temp\\ipykernel_33780\\313334127.py:6: UserWarning: Could not infer format, so each element will be parsed individually, falling back to `dateutil`. To ensure parsing is consistent and as-expected, please specify a format.\n",
      "  df = pd.read_csv(path, index_col=0, parse_dates=True)\n",
      "C:\\Users\\Jimit\\AppData\\Local\\Temp\\ipykernel_33780\\313334127.py:6: UserWarning: Could not infer format, so each element will be parsed individually, falling back to `dateutil`. To ensure parsing is consistent and as-expected, please specify a format.\n",
      "  df = pd.read_csv(path, index_col=0, parse_dates=True)\n",
      "C:\\Users\\Jimit\\AppData\\Local\\Temp\\ipykernel_33780\\313334127.py:6: UserWarning: Could not infer format, so each element will be parsed individually, falling back to `dateutil`. To ensure parsing is consistent and as-expected, please specify a format.\n",
      "  df = pd.read_csv(path, index_col=0, parse_dates=True)\n"
     ]
    },
    {
     "name": "stdout",
     "output_type": "stream",
     "text": [
      "✅ Processed and saved: BANKNIFTY_60m_processed.csv\n"
     ]
    }
   ],
   "source": [
    "os.makedirs(\"nifty_banknifty_processed\", exist_ok=True)\n",
    "\n",
    "for name in tickers:\n",
    "    for interval in intervals:\n",
    "        path = f\"nifty_banknifty_raw/{name}_{interval}_raw.csv\"\n",
    "        df = pd.read_csv(path, index_col=0, parse_dates=True)\n",
    "        df = apply_feature_engineering(df)\n",
    "        df.to_csv(f\"nifty_banknifty_processed/{name}_{interval}_processed.csv\")\n",
    "        print(f\"✅ Processed and saved: {name}_{interval}_processed.csv\")\n"
   ]
  },
  {
   "cell_type": "code",
   "execution_count": 6,
   "id": "2471cbcb",
   "metadata": {
    "execution": {
     "iopub.execute_input": "2025-07-21T14:16:39.229577Z",
     "iopub.status.busy": "2025-07-21T14:16:39.228592Z",
     "iopub.status.idle": "2025-07-21T14:16:39.238185Z",
     "shell.execute_reply": "2025-07-21T14:16:39.236565Z"
    }
   },
   "outputs": [],
   "source": [
    "def add_target_labels(df, close_col, shift_period=1, threshold_pct=0.00085):\n",
    "    df = df.copy()\n",
    "    df['future_close'] = df[close_col].shift(-shift_period)\n",
    "    df['return_pct'] = (df['future_close'] - df[close_col]) / df[close_col]\n",
    "    df['target'] = 1\n",
    "    df.loc[df['return_pct'] > threshold_pct, 'target'] = 2\n",
    "    df.loc[df['return_pct'] < -threshold_pct, 'target'] = 0\n",
    "    df.dropna(inplace=True)\n",
    "    return df\n"
   ]
  },
  {
   "cell_type": "code",
   "execution_count": 7,
   "id": "3d3051d2",
   "metadata": {
    "execution": {
     "iopub.execute_input": "2025-07-21T14:16:39.243210Z",
     "iopub.status.busy": "2025-07-21T14:16:39.243210Z",
     "iopub.status.idle": "2025-07-21T14:16:40.465312Z",
     "shell.execute_reply": "2025-07-21T14:16:40.464308Z"
    }
   },
   "outputs": [
    {
     "name": "stdout",
     "output_type": "stream",
     "text": [
      "✅ Labeled: NIFTY_1m_labeled.csv\n",
      "target\n",
      "1    0.989891\n",
      "2    0.005443\n",
      "0    0.004666\n",
      "Name: proportion, dtype: float64\n"
     ]
    },
    {
     "name": "stdout",
     "output_type": "stream",
     "text": [
      "✅ Labeled: NIFTY_5m_labeled.csv\n",
      "target\n",
      "1    0.864944\n",
      "0    0.067640\n",
      "2    0.067416\n",
      "Name: proportion, dtype: float64\n",
      "✅ Labeled: NIFTY_15m_labeled.csv\n",
      "target\n",
      "1    0.686207\n",
      "0    0.157931\n",
      "2    0.155862\n",
      "Name: proportion, dtype: float64\n"
     ]
    },
    {
     "name": "stdout",
     "output_type": "stream",
     "text": [
      "✅ Labeled: NIFTY_30m_labeled.csv\n",
      "target\n",
      "1    0.573134\n",
      "0    0.231343\n",
      "2    0.195522\n",
      "Name: proportion, dtype: float64\n",
      "✅ Labeled: NIFTY_60m_labeled.csv\n",
      "target\n",
      "1    0.467568\n",
      "2    0.267568\n",
      "0    0.264865\n",
      "Name: proportion, dtype: float64\n",
      "✅ Labeled: BANKNIFTY_1m_labeled.csv\n",
      "target\n",
      "1    0.992224\n",
      "0    0.004277\n",
      "2    0.003499\n",
      "Name: proportion, dtype: float64\n"
     ]
    },
    {
     "name": "stdout",
     "output_type": "stream",
     "text": [
      "✅ Labeled: BANKNIFTY_5m_labeled.csv\n",
      "target\n",
      "1    0.83573\n",
      "2    0.08427\n",
      "0    0.08000\n",
      "Name: proportion, dtype: float64\n",
      "✅ Labeled: BANKNIFTY_15m_labeled.csv\n",
      "target\n",
      "1    0.643448\n",
      "0    0.181379\n",
      "2    0.175172\n",
      "Name: proportion, dtype: float64\n",
      "✅ Labeled: BANKNIFTY_30m_labeled.csv\n",
      "target\n",
      "1    0.501493\n",
      "2    0.250746\n",
      "0    0.247761\n",
      "Name: proportion, dtype: float64\n"
     ]
    },
    {
     "name": "stdout",
     "output_type": "stream",
     "text": [
      "✅ Labeled: BANKNIFTY_60m_labeled.csv\n",
      "target\n",
      "1    0.435135\n",
      "0    0.289189\n",
      "2    0.275676\n",
      "Name: proportion, dtype: float64\n"
     ]
    }
   ],
   "source": [
    "os.makedirs(\"nifty_banknifty_labeled\", exist_ok=True)\n",
    "for name in tickers:\n",
    "    for interval in intervals:\n",
    "        file_path = f\"nifty_banknifty_processed/{name}_{interval}_processed.csv\"\n",
    "        df = pd.read_csv(file_path, index_col=0, parse_dates=True)\n",
    "        df = add_target_labels(df, close_col='Close')\n",
    "        df.to_csv(f\"nifty_banknifty_labeled/{name}_{interval}_labeled.csv\")\n",
    "        print(f\"✅ Labeled: {name}_{interval}_labeled.csv\")\n",
    "        print(df['target'].value_counts(normalize=True))\n",
    "\n"
   ]
  },
  {
   "cell_type": "markdown",
   "id": "dba0461d",
   "metadata": {},
   "source": [
    "## 🤖 Model Training for Direction Prediction\n",
    "\n",
    "We train a classification model for each symbol (NIFTY/BANKNIFTY) across four timeframes: 5m, 15m, 30m, and 60m.\n",
    "\n",
    "Each model predicts one of the following signals:\n",
    "- 0 = 📉 PUT (Bearish signal)\n",
    "- 1 = ⏸️ NO ACTION\n",
    "- 2 = 📈 CALL (Bullish signal)\n",
    "\n",
    "The training set is built from labeled data based on future return thresholds. We use the RandomForestClassifier for its performance on tabular data and robustness to feature scaling.\n"
   ]
  },
  {
   "cell_type": "code",
   "execution_count": 8,
   "id": "881fc4b1",
   "metadata": {
    "execution": {
     "iopub.execute_input": "2025-07-21T14:16:40.472317Z",
     "iopub.status.busy": "2025-07-21T14:16:40.471319Z",
     "iopub.status.idle": "2025-07-21T14:16:45.740875Z",
     "shell.execute_reply": "2025-07-21T14:16:45.738356Z"
    }
   },
   "outputs": [
    {
     "name": "stdout",
     "output_type": "stream",
     "text": [
      "\n",
      "📘 Training NIFTY - 5m model...\n"
     ]
    },
    {
     "name": "stderr",
     "output_type": "stream",
     "text": [
      "C:\\Users\\Jimit\\Desktop\\Course 2\\Sem 2\\Case studies\\AI_PREDICTOR\\venv\\lib\\site-packages\\xgboost\\training.py:183: UserWarning: [10:16:40] WARNING: C:\\actions-runner\\_work\\xgboost\\xgboost\\src\\learner.cc:738: \n",
      "Parameters: { \"use_label_encoder\" } are not used.\n",
      "\n",
      "  bst.update(dtrain, iteration=i, fobj=obj)\n"
     ]
    },
    {
     "name": "stdout",
     "output_type": "stream",
     "text": [
      "📊 Classification Report:\n",
      "              precision    recall  f1-score   support\n",
      "\n",
      "           0       0.00      0.00      0.00        60\n",
      "           1       0.87      0.98      0.92       770\n",
      "           2       0.31      0.07      0.11        60\n",
      "\n",
      "    accuracy                           0.86       890\n",
      "   macro avg       0.39      0.35      0.34       890\n",
      "weighted avg       0.78      0.86      0.81       890\n",
      "\n",
      "🔍 Confusion Matrix:\n",
      "[[  0  57   3]\n",
      " [  7 757   6]\n",
      " [  2  54   4]]\n",
      "✅ Model saved to final_models/NIFTY_model_5m.pkl\n",
      "\n",
      "📘 Training NIFTY - 15m model...\n"
     ]
    },
    {
     "name": "stderr",
     "output_type": "stream",
     "text": [
      "C:\\Users\\Jimit\\Desktop\\Course 2\\Sem 2\\Case studies\\AI_PREDICTOR\\venv\\lib\\site-packages\\xgboost\\training.py:183: UserWarning: [10:16:41] WARNING: C:\\actions-runner\\_work\\xgboost\\xgboost\\src\\learner.cc:738: \n",
      "Parameters: { \"use_label_encoder\" } are not used.\n",
      "\n",
      "  bst.update(dtrain, iteration=i, fobj=obj)\n"
     ]
    },
    {
     "name": "stdout",
     "output_type": "stream",
     "text": [
      "📊 Classification Report:\n",
      "              precision    recall  f1-score   support\n",
      "\n",
      "           0       0.14      0.07      0.09        46\n",
      "           1       0.68      0.85      0.76       199\n",
      "           2       0.21      0.09      0.12        45\n",
      "\n",
      "    accuracy                           0.61       290\n",
      "   macro avg       0.34      0.34      0.32       290\n",
      "weighted avg       0.52      0.61      0.55       290\n",
      "\n",
      "🔍 Confusion Matrix:\n",
      "[[  3  41   2]\n",
      " [ 16 170  13]\n",
      " [  3  38   4]]\n",
      "✅ Model saved to final_models/NIFTY_model_15m.pkl\n",
      "\n",
      "📘 Training NIFTY - 30m model...\n"
     ]
    },
    {
     "name": "stderr",
     "output_type": "stream",
     "text": [
      "C:\\Users\\Jimit\\Desktop\\Course 2\\Sem 2\\Case studies\\AI_PREDICTOR\\venv\\lib\\site-packages\\xgboost\\training.py:183: UserWarning: [10:16:41] WARNING: C:\\actions-runner\\_work\\xgboost\\xgboost\\src\\learner.cc:738: \n",
      "Parameters: { \"use_label_encoder\" } are not used.\n",
      "\n",
      "  bst.update(dtrain, iteration=i, fobj=obj)\n"
     ]
    },
    {
     "name": "stdout",
     "output_type": "stream",
     "text": [
      "📊 Classification Report:\n",
      "              precision    recall  f1-score   support\n",
      "\n",
      "           0       0.25      0.16      0.20        31\n",
      "           1       0.60      0.74      0.66        77\n",
      "           2       0.16      0.12      0.13        26\n",
      "\n",
      "    accuracy                           0.49       134\n",
      "   macro avg       0.34      0.34      0.33       134\n",
      "weighted avg       0.43      0.49      0.45       134\n",
      "\n",
      "🔍 Confusion Matrix:\n",
      "[[ 5 21  5]\n",
      " [ 9 57 11]\n",
      " [ 6 17  3]]\n",
      "✅ Model saved to final_models/NIFTY_model_30m.pkl\n",
      "\n",
      "📘 Training NIFTY - 60m model...\n"
     ]
    },
    {
     "name": "stderr",
     "output_type": "stream",
     "text": [
      "C:\\Users\\Jimit\\Desktop\\Course 2\\Sem 2\\Case studies\\AI_PREDICTOR\\venv\\lib\\site-packages\\xgboost\\training.py:183: UserWarning: [10:16:42] WARNING: C:\\actions-runner\\_work\\xgboost\\xgboost\\src\\learner.cc:738: \n",
      "Parameters: { \"use_label_encoder\" } are not used.\n",
      "\n",
      "  bst.update(dtrain, iteration=i, fobj=obj)\n"
     ]
    },
    {
     "name": "stdout",
     "output_type": "stream",
     "text": [
      "📊 Classification Report:\n",
      "              precision    recall  f1-score   support\n",
      "\n",
      "           0       0.25      0.10      0.14        20\n",
      "           1       0.46      0.76      0.57        34\n",
      "           2       0.44      0.20      0.28        20\n",
      "\n",
      "    accuracy                           0.43        74\n",
      "   macro avg       0.38      0.35      0.33        74\n",
      "weighted avg       0.40      0.43      0.38        74\n",
      "\n",
      "🔍 Confusion Matrix:\n",
      "[[ 2 16  2]\n",
      " [ 5 26  3]\n",
      " [ 1 15  4]]\n",
      "✅ Model saved to final_models/NIFTY_model_60m.pkl\n",
      "\n",
      "📘 Training BANKNIFTY - 5m model...\n"
     ]
    },
    {
     "name": "stderr",
     "output_type": "stream",
     "text": [
      "C:\\Users\\Jimit\\Desktop\\Course 2\\Sem 2\\Case studies\\AI_PREDICTOR\\venv\\lib\\site-packages\\xgboost\\training.py:183: UserWarning: [10:16:42] WARNING: C:\\actions-runner\\_work\\xgboost\\xgboost\\src\\learner.cc:738: \n",
      "Parameters: { \"use_label_encoder\" } are not used.\n",
      "\n",
      "  bst.update(dtrain, iteration=i, fobj=obj)\n"
     ]
    },
    {
     "name": "stdout",
     "output_type": "stream",
     "text": [
      "📊 Classification Report:\n",
      "              precision    recall  f1-score   support\n",
      "\n",
      "           0       0.07      0.01      0.02        71\n",
      "           1       0.84      0.98      0.91       744\n",
      "           2       0.25      0.03      0.05        75\n",
      "\n",
      "    accuracy                           0.83       890\n",
      "   macro avg       0.39      0.34      0.33       890\n",
      "weighted avg       0.73      0.83      0.77       890\n",
      "\n",
      "🔍 Confusion Matrix:\n",
      "[[  1  68   2]\n",
      " [  8 732   4]\n",
      " [  5  68   2]]\n",
      "✅ Model saved to final_models/BANKNIFTY_model_5m.pkl\n",
      "\n",
      "📘 Training BANKNIFTY - 15m model...\n"
     ]
    },
    {
     "name": "stderr",
     "output_type": "stream",
     "text": [
      "C:\\Users\\Jimit\\Desktop\\Course 2\\Sem 2\\Case studies\\AI_PREDICTOR\\venv\\lib\\site-packages\\xgboost\\training.py:183: UserWarning: [10:16:43] WARNING: C:\\actions-runner\\_work\\xgboost\\xgboost\\src\\learner.cc:738: \n",
      "Parameters: { \"use_label_encoder\" } are not used.\n",
      "\n",
      "  bst.update(dtrain, iteration=i, fobj=obj)\n"
     ]
    },
    {
     "name": "stdout",
     "output_type": "stream",
     "text": [
      "📊 Classification Report:\n",
      "              precision    recall  f1-score   support\n",
      "\n",
      "           0       0.16      0.08      0.10        52\n",
      "           1       0.65      0.81      0.72       187\n",
      "           2       0.31      0.20      0.24        51\n",
      "\n",
      "    accuracy                           0.57       290\n",
      "   macro avg       0.37      0.36      0.36       290\n",
      "weighted avg       0.50      0.57      0.53       290\n",
      "\n",
      "🔍 Confusion Matrix:\n",
      "[[  4  45   3]\n",
      " [ 16 152  19]\n",
      " [  5  36  10]]\n",
      "✅ Model saved to final_models/BANKNIFTY_model_15m.pkl\n",
      "\n",
      "📘 Training BANKNIFTY - 30m model...\n"
     ]
    },
    {
     "name": "stderr",
     "output_type": "stream",
     "text": [
      "C:\\Users\\Jimit\\Desktop\\Course 2\\Sem 2\\Case studies\\AI_PREDICTOR\\venv\\lib\\site-packages\\xgboost\\training.py:183: UserWarning: [10:16:44] WARNING: C:\\actions-runner\\_work\\xgboost\\xgboost\\src\\learner.cc:738: \n",
      "Parameters: { \"use_label_encoder\" } are not used.\n",
      "\n",
      "  bst.update(dtrain, iteration=i, fobj=obj)\n"
     ]
    },
    {
     "name": "stdout",
     "output_type": "stream",
     "text": [
      "📊 Classification Report:\n",
      "              precision    recall  f1-score   support\n",
      "\n",
      "           0       0.31      0.15      0.20        33\n",
      "           1       0.60      0.79      0.68        67\n",
      "           2       0.31      0.26      0.29        34\n",
      "\n",
      "    accuracy                           0.50       134\n",
      "   macro avg       0.41      0.40      0.39       134\n",
      "weighted avg       0.45      0.50      0.46       134\n",
      "\n",
      "🔍 Confusion Matrix:\n",
      "[[ 5 16 12]\n",
      " [ 6 53  8]\n",
      " [ 5 20  9]]\n",
      "✅ Model saved to final_models/BANKNIFTY_model_30m.pkl\n",
      "\n",
      "📘 Training BANKNIFTY - 60m model...\n"
     ]
    },
    {
     "name": "stderr",
     "output_type": "stream",
     "text": [
      "C:\\Users\\Jimit\\Desktop\\Course 2\\Sem 2\\Case studies\\AI_PREDICTOR\\venv\\lib\\site-packages\\xgboost\\training.py:183: UserWarning: [10:16:45] WARNING: C:\\actions-runner\\_work\\xgboost\\xgboost\\src\\learner.cc:738: \n",
      "Parameters: { \"use_label_encoder\" } are not used.\n",
      "\n",
      "  bst.update(dtrain, iteration=i, fobj=obj)\n"
     ]
    },
    {
     "name": "stdout",
     "output_type": "stream",
     "text": [
      "📊 Classification Report:\n",
      "              precision    recall  f1-score   support\n",
      "\n",
      "           0       0.26      0.23      0.24        22\n",
      "           1       0.44      0.66      0.53        32\n",
      "           2       0.43      0.15      0.22        20\n",
      "\n",
      "    accuracy                           0.39        74\n",
      "   macro avg       0.38      0.34      0.33        74\n",
      "weighted avg       0.38      0.39      0.36        74\n",
      "\n",
      "🔍 Confusion Matrix:\n",
      "[[ 5 15  2]\n",
      " [ 9 21  2]\n",
      " [ 5 12  3]]\n",
      "✅ Model saved to final_models/BANKNIFTY_model_60m.pkl\n"
     ]
    }
   ],
   "source": [
    "import os\n",
    "import pandas as pd\n",
    "from xgboost import XGBClassifier\n",
    "from sklearn.metrics import classification_report, confusion_matrix\n",
    "from sklearn.model_selection import train_test_split\n",
    "import joblib\n",
    "\n",
    "# Target intervals and symbols\n",
    "intervals = [\"5m\", \"15m\", \"30m\", \"60m\"]\n",
    "symbols = [\"NIFTY\", \"BANKNIFTY\"]\n",
    "\n",
    "# Ensure model output directory exists\n",
    "os.makedirs(\"final_models\", exist_ok=True)\n",
    "\n",
    "for symbol in symbols:\n",
    "    for interval in intervals:\n",
    "        print(f\"\\n📘 Training {symbol} - {interval} model...\")\n",
    "\n",
    "        # Load labeled dataset\n",
    "        path = f\"nifty_banknifty_labeled/{symbol}_{interval}_labeled.csv\"\n",
    "        if not os.path.exists(path):\n",
    "            print(f\"❌ File not found: {path}\")\n",
    "            continue\n",
    "        df = pd.read_csv(path, index_col=0, parse_dates=True)\n",
    "\n",
    "        # Drop helper columns if present\n",
    "        df.drop(columns=[col for col in ['future_close', 'return_pct'] if col in df.columns], inplace=True)\n",
    "\n",
    "        # Split features and target\n",
    "        X = df.drop(columns=['target'])\n",
    "        y = df['target']\n",
    "\n",
    "        # Sanitize data\n",
    "        for col in X.columns:\n",
    "            if X[col].dtype == 'object':\n",
    "                X[col] = pd.to_numeric(X[col], errors='coerce')\n",
    "        X = X.select_dtypes(include=['number']).fillna(0)\n",
    "\n",
    "        # Check class count\n",
    "        if y.nunique() < 2:\n",
    "            print(f\"❌ Skipping {symbol}-{interval}: Only one class in data.\")\n",
    "            continue\n",
    "        elif y.nunique() < 3:\n",
    "            print(f\"⚠️ Warning: Only classes {y.unique().tolist()} found in {symbol}-{interval}\")\n",
    "\n",
    "        # Stratified train-test split\n",
    "        try:\n",
    "            X_train, X_test, y_train, y_test = train_test_split(\n",
    "                X, y, test_size=0.2, stratify=y, random_state=42\n",
    "            )\n",
    "        except ValueError as e:\n",
    "            print(f\"⚠️ Skipping due to stratify error: {e}\")\n",
    "            continue\n",
    "\n",
    "        # Train model\n",
    "        model = XGBClassifier(use_label_encoder=False, eval_metric='mlogloss')\n",
    "        model.fit(X_train, y_train)\n",
    "\n",
    "        # Evaluate\n",
    "        y_pred = model.predict(X_test)\n",
    "        print(\"📊 Classification Report:\")\n",
    "        print(classification_report(y_test, y_pred))\n",
    "        print(\"🔍 Confusion Matrix:\")\n",
    "        print(confusion_matrix(y_test, y_pred))\n",
    "\n",
    "        # Save model\n",
    "        model_path = f\"final_models/{symbol}_model_{interval}.pkl\"\n",
    "        joblib.dump(model, model_path)\n",
    "        print(f\"✅ Model saved to {model_path}\")\n"
   ]
  },
  {
   "cell_type": "code",
   "execution_count": 9,
   "id": "e6505eae",
   "metadata": {
    "execution": {
     "iopub.execute_input": "2025-07-21T14:16:45.749521Z",
     "iopub.status.busy": "2025-07-21T14:16:45.748001Z",
     "iopub.status.idle": "2025-07-21T14:16:46.513669Z",
     "shell.execute_reply": "2025-07-21T14:16:46.488939Z"
    }
   },
   "outputs": [
    {
     "name": "stdout",
     "output_type": "stream",
     "text": [
      "📊 Final Decision for NIFTY: ⏸️ Suggest NO ACTION\n"
     ]
    },
    {
     "name": "stdout",
     "output_type": "stream",
     "text": [
      "📊 Final Decision for BANKNIFTY: ⏸️ Suggest NO ACTION\n"
     ]
    }
   ],
   "source": [
    "import pandas as pd\n",
    "import joblib\n",
    "from collections import Counter\n",
    "\n",
    "# Configuration\n",
    "intervals = [\"5m\", \"15m\", \"30m\", \"60m\"]\n",
    "symbols = [\"NIFTY\", \"BANKNIFTY\"]\n",
    "model_dir = \"final_models\"\n",
    "\n",
    "# Load the latest feature set (replace this with your actual input features)\n",
    "# For testing, load last row from any labeled dataset\n",
    "def load_latest_features(symbol, interval):\n",
    "    path = f\"nifty_banknifty_labeled/{symbol}_{interval}_labeled.csv\"\n",
    "    df = pd.read_csv(path, index_col=0, parse_dates=True)\n",
    "    df.drop(columns=[col for col in ['target', 'future_close', 'return_pct'] if col in df.columns], inplace=True)\n",
    "    df = df.select_dtypes(include='number').fillna(0)\n",
    "    return df.iloc[[-1]]  # last row as latest input\n",
    "\n",
    "# Voting prediction function\n",
    "def get_final_signal(symbol):\n",
    "    votes = []\n",
    "    for interval in intervals:\n",
    "        model_path = f\"{model_dir}/{symbol}_model_{interval}.pkl\"\n",
    "        if not os.path.exists(model_path):\n",
    "            print(f\"❌ Missing model: {model_path}\")\n",
    "            continue\n",
    "        \n",
    "        model = joblib.load(model_path)\n",
    "        latest_features = load_latest_features(symbol, interval)\n",
    "        pred = model.predict(latest_features)[0]\n",
    "        votes.append(pred)\n",
    "\n",
    "    # Majority vote\n",
    "    if not votes:\n",
    "        return \"❌ No predictions available\"\n",
    "    \n",
    "    vote_count = Counter(votes)\n",
    "    final_decision = vote_count.most_common(1)[0][0]\n",
    "    \n",
    "    signal_map = {0: \"📉 Suggest PUT (PE)\", 1: \"⏸️ Suggest NO ACTION\", 2: \"📈 Suggest CALL (CE)\"}\n",
    "    return signal_map[final_decision]\n",
    "\n",
    "# Example usage\n",
    "print(\"📊 Final Decision for NIFTY:\", get_final_signal(\"NIFTY\"))\n",
    "print(\"📊 Final Decision for BANKNIFTY:\", get_final_signal(\"BANKNIFTY\"))\n"
   ]
  },
  {
   "cell_type": "code",
   "execution_count": 10,
   "id": "ae34e4b2",
   "metadata": {
    "execution": {
     "iopub.execute_input": "2025-07-21T14:16:46.543674Z",
     "iopub.status.busy": "2025-07-21T14:16:46.539680Z",
     "iopub.status.idle": "2025-07-21T14:16:47.720035Z",
     "shell.execute_reply": "2025-07-21T14:16:47.717041Z"
    }
   },
   "outputs": [
    {
     "name": "stdout",
     "output_type": "stream",
     "text": [
      "\n",
      "🧭 Frame-wise Decision for NIFTY:\n",
      "  ⏱️ 5m: ⏸️ NO ACTION\n",
      "  ⏱️ 15m: ⏸️ NO ACTION\n",
      "  ⏱️ 30m: ⏸️ NO ACTION\n",
      "  ⏱️ 60m: ⏸️ NO ACTION\n",
      "\n",
      "🧭 Frame-wise Decision for BANKNIFTY:\n",
      "  ⏱️ 5m: ⏸️ NO ACTION\n",
      "  ⏱️ 15m: ⏸️ NO ACTION\n",
      "  ⏱️ 30m: ⏸️ NO ACTION\n",
      "  ⏱️ 60m: ⏸️ NO ACTION\n"
     ]
    }
   ],
   "source": [
    "# Frame-wise prediction logic\n",
    "def get_framewise_signal(symbol):\n",
    "    decisions = {}\n",
    "    for interval in intervals:\n",
    "        model_path = f\"{model_dir}/{symbol}_model_{interval}.pkl\"\n",
    "        if not os.path.exists(model_path):\n",
    "            decisions[interval] = \"❌ No model\"\n",
    "            continue\n",
    "\n",
    "        model = joblib.load(model_path)\n",
    "        latest_features = load_latest_features(symbol, interval)\n",
    "        pred = model.predict(latest_features)[0]\n",
    "\n",
    "        signal_map = {0: \"📉 PUT\", 1: \"⏸️ NO ACTION\", 2: \"📈 CALL\"}\n",
    "        decisions[interval] = signal_map.get(pred, \"❓ Unknown\")\n",
    "    \n",
    "    return decisions\n",
    "\n",
    "# Usage\n",
    "nifty_signals = get_framewise_signal(\"NIFTY\")\n",
    "banknifty_signals = get_framewise_signal(\"BANKNIFTY\")\n",
    "\n",
    "print(\"\\n🧭 Frame-wise Decision for NIFTY:\")\n",
    "for interval, signal in nifty_signals.items():\n",
    "    print(f\"  ⏱️ {interval}: {signal}\")\n",
    "\n",
    "print(\"\\n🧭 Frame-wise Decision for BANKNIFTY:\")\n",
    "for interval, signal in banknifty_signals.items():\n",
    "    print(f\"  ⏱️ {interval}: {signal}\")\n",
    "# Save final decisions to CSV for UI to read\n",
    "import os\n",
    "os.makedirs(\"final_predictions\", exist_ok=True)\n",
    "\n",
    "for symbol in [\"NIFTY\", \"BANKNIFTY\"]:\n",
    "    frame_signals = get_framewise_signal(symbol)\n",
    "    df = pd.DataFrame.from_dict(frame_signals, orient=\"index\", columns=[\"signal\"])\n",
    "    df.to_csv(f\"final_predictions/{symbol}_framewise_predictions.csv\")\n"
   ]
  },
  {
   "cell_type": "markdown",
   "id": "d1fb97a6",
   "metadata": {},
   "source": [
    "# Conclusion: \n",
    "The prediction suggest trader which trades will be non-profitable or may end in losing money, it also help the trader for the hold time for what time the trade can be executed."
   ]
  }
 ],
 "metadata": {
  "kernelspec": {
   "display_name": "venv",
   "language": "python",
   "name": "python3"
  },
  "language_info": {
   "codemirror_mode": {
    "name": "ipython",
    "version": 3
   },
   "file_extension": ".py",
   "mimetype": "text/x-python",
   "name": "python",
   "nbconvert_exporter": "python",
   "pygments_lexer": "ipython3",
   "version": "3.10.0"
  }
 },
 "nbformat": 4,
 "nbformat_minor": 5
}
