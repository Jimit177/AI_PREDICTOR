{
 "cells": [
  {
   "cell_type": "code",
   "execution_count": 145,
   "id": "870ae75d",
   "metadata": {},
   "outputs": [],
   "source": [
    "import yfinance as yf\n",
    "import pandas as pd\n",
    "import ta\n",
    "import os\n",
    "from sklearn.model_selection import train_test_split\n",
    "from sklearn.metrics import classification_report, confusion_matrix\n",
    "from xgboost import XGBClassifier\n",
    "import joblib\n"
   ]
  },
  {
   "cell_type": "code",
   "execution_count": 146,
   "id": "97c9a95e",
   "metadata": {},
   "outputs": [],
   "source": [
    "tickers = {\n",
    "    \"NIFTY\": \"^NSEI\",\n",
    "    \"BANKNIFTY\": \"^NSEBANK\"\n",
    "}\n",
    "\n",
    "intervals = {\n",
    "    \"1m\": \"7d\",\n",
    "    \"5m\": \"60d\",\n",
    "    \"15m\": \"60d\",\n",
    "    \"30m\": \"60d\",\n",
    "    \"60m\": \"60d\"\n",
    "}\n"
   ]
  },
  {
   "cell_type": "code",
   "execution_count": 147,
   "id": "29d7007d",
   "metadata": {},
   "outputs": [
    {
     "name": "stderr",
     "output_type": "stream",
     "text": [
      "C:\\Users\\Jimit\\AppData\\Local\\Temp\\ipykernel_22424\\3630785718.py:4: FutureWarning: YF.download() has changed argument auto_adjust default to True\n",
      "  df = yf.download(ticker_symbol, interval=interval, period=period)\n",
      "[*********************100%***********************]  1 of 1 completed\n",
      "C:\\Users\\Jimit\\AppData\\Local\\Temp\\ipykernel_22424\\3630785718.py:4: FutureWarning: YF.download() has changed argument auto_adjust default to True\n",
      "  df = yf.download(ticker_symbol, interval=interval, period=period)\n"
     ]
    },
    {
     "name": "stdout",
     "output_type": "stream",
     "text": [
      "✅ Saved: nifty_banknifty_raw/NIFTY_1m_raw.csv\n"
     ]
    },
    {
     "name": "stderr",
     "output_type": "stream",
     "text": [
      "[*********************100%***********************]  1 of 1 completed\n",
      "C:\\Users\\Jimit\\AppData\\Local\\Temp\\ipykernel_22424\\3630785718.py:4: FutureWarning: YF.download() has changed argument auto_adjust default to True\n",
      "  df = yf.download(ticker_symbol, interval=interval, period=period)\n"
     ]
    },
    {
     "name": "stdout",
     "output_type": "stream",
     "text": [
      "✅ Saved: nifty_banknifty_raw/NIFTY_5m_raw.csv\n"
     ]
    },
    {
     "name": "stderr",
     "output_type": "stream",
     "text": [
      "[*********************100%***********************]  1 of 1 completed\n",
      "C:\\Users\\Jimit\\AppData\\Local\\Temp\\ipykernel_22424\\3630785718.py:4: FutureWarning: YF.download() has changed argument auto_adjust default to True\n",
      "  df = yf.download(ticker_symbol, interval=interval, period=period)\n"
     ]
    },
    {
     "name": "stdout",
     "output_type": "stream",
     "text": [
      "✅ Saved: nifty_banknifty_raw/NIFTY_15m_raw.csv\n"
     ]
    },
    {
     "name": "stderr",
     "output_type": "stream",
     "text": [
      "[*********************100%***********************]  1 of 1 completed\n",
      "C:\\Users\\Jimit\\AppData\\Local\\Temp\\ipykernel_22424\\3630785718.py:4: FutureWarning: YF.download() has changed argument auto_adjust default to True\n",
      "  df = yf.download(ticker_symbol, interval=interval, period=period)\n"
     ]
    },
    {
     "name": "stdout",
     "output_type": "stream",
     "text": [
      "✅ Saved: nifty_banknifty_raw/NIFTY_30m_raw.csv\n"
     ]
    },
    {
     "name": "stderr",
     "output_type": "stream",
     "text": [
      "[*********************100%***********************]  1 of 1 completed\n",
      "C:\\Users\\Jimit\\AppData\\Local\\Temp\\ipykernel_22424\\3630785718.py:4: FutureWarning: YF.download() has changed argument auto_adjust default to True\n",
      "  df = yf.download(ticker_symbol, interval=interval, period=period)\n"
     ]
    },
    {
     "name": "stdout",
     "output_type": "stream",
     "text": [
      "✅ Saved: nifty_banknifty_raw/NIFTY_60m_raw.csv\n"
     ]
    },
    {
     "name": "stderr",
     "output_type": "stream",
     "text": [
      "[*********************100%***********************]  1 of 1 completed\n",
      "C:\\Users\\Jimit\\AppData\\Local\\Temp\\ipykernel_22424\\3630785718.py:4: FutureWarning: YF.download() has changed argument auto_adjust default to True\n",
      "  df = yf.download(ticker_symbol, interval=interval, period=period)\n"
     ]
    },
    {
     "name": "stdout",
     "output_type": "stream",
     "text": [
      "✅ Saved: nifty_banknifty_raw/BANKNIFTY_1m_raw.csv\n"
     ]
    },
    {
     "name": "stderr",
     "output_type": "stream",
     "text": [
      "[*********************100%***********************]  1 of 1 completed\n",
      "C:\\Users\\Jimit\\AppData\\Local\\Temp\\ipykernel_22424\\3630785718.py:4: FutureWarning: YF.download() has changed argument auto_adjust default to True\n",
      "  df = yf.download(ticker_symbol, interval=interval, period=period)\n"
     ]
    },
    {
     "name": "stdout",
     "output_type": "stream",
     "text": [
      "✅ Saved: nifty_banknifty_raw/BANKNIFTY_5m_raw.csv\n"
     ]
    },
    {
     "name": "stderr",
     "output_type": "stream",
     "text": [
      "[*********************100%***********************]  1 of 1 completed\n",
      "C:\\Users\\Jimit\\AppData\\Local\\Temp\\ipykernel_22424\\3630785718.py:4: FutureWarning: YF.download() has changed argument auto_adjust default to True\n",
      "  df = yf.download(ticker_symbol, interval=interval, period=period)\n"
     ]
    },
    {
     "name": "stdout",
     "output_type": "stream",
     "text": [
      "✅ Saved: nifty_banknifty_raw/BANKNIFTY_15m_raw.csv\n"
     ]
    },
    {
     "name": "stderr",
     "output_type": "stream",
     "text": [
      "[*********************100%***********************]  1 of 1 completed\n",
      "C:\\Users\\Jimit\\AppData\\Local\\Temp\\ipykernel_22424\\3630785718.py:4: FutureWarning: YF.download() has changed argument auto_adjust default to True\n",
      "  df = yf.download(ticker_symbol, interval=interval, period=period)\n"
     ]
    },
    {
     "name": "stdout",
     "output_type": "stream",
     "text": [
      "✅ Saved: nifty_banknifty_raw/BANKNIFTY_30m_raw.csv\n"
     ]
    },
    {
     "name": "stderr",
     "output_type": "stream",
     "text": [
      "[*********************100%***********************]  1 of 1 completed"
     ]
    },
    {
     "name": "stdout",
     "output_type": "stream",
     "text": [
      "✅ Saved: nifty_banknifty_raw/BANKNIFTY_60m_raw.csv\n"
     ]
    },
    {
     "name": "stderr",
     "output_type": "stream",
     "text": [
      "\n"
     ]
    }
   ],
   "source": [
    "os.makedirs(\"nifty_banknifty_raw\", exist_ok=True)\n",
    "\n",
    "def fetch_raw_data(ticker_symbol, interval, period):\n",
    "    df = yf.download(ticker_symbol, interval=interval, period=period)\n",
    "    df.dropna(inplace=True)\n",
    "    return df\n",
    "\n",
    "for name, ticker in tickers.items():\n",
    "    for interval, period in intervals.items():\n",
    "        df = fetch_raw_data(ticker, interval, period)\n",
    "        path = f\"nifty_banknifty_raw/{name}_{interval}_raw.csv\"\n",
    "        df.to_csv(path)\n",
    "        print(f\"✅ Saved: {path}\")\n"
   ]
  },
  {
   "cell_type": "code",
   "execution_count": 148,
   "id": "5abe9bec",
   "metadata": {},
   "outputs": [],
   "source": [
    "def apply_feature_engineering(df):\n",
    "    df = df.copy()\n",
    "\n",
    "    # Ensure numeric format\n",
    "    for col in ['Open', 'High', 'Low', 'Close', 'Volume']:\n",
    "        df[col] = pd.to_numeric(df[col], errors='coerce')\n",
    "\n",
    "    df.dropna(subset=['Open', 'High', 'Low', 'Close', 'Volume'], inplace=True)\n",
    "\n",
    "    # Technical Indicators\n",
    "    df['rsi'] = ta.momentum.RSIIndicator(close=df['Close']).rsi()\n",
    "    macd = ta.trend.MACD(close=df['Close'])\n",
    "    df['macd'] = macd.macd()\n",
    "    df['macd_signal'] = macd.macd_signal()\n",
    "    df['ema_20'] = ta.trend.EMAIndicator(close=df['Close'], window=20).ema_indicator()\n",
    "    df['ema_50'] = ta.trend.EMAIndicator(close=df['Close'], window=50).ema_indicator()\n",
    "    df['atr'] = ta.volatility.AverageTrueRange(high=df['High'], low=df['Low'], close=df['Close']).average_true_range()\n",
    "\n",
    "    df.dropna(inplace=True)\n",
    "    return df\n"
   ]
  },
  {
   "cell_type": "code",
   "execution_count": 149,
   "id": "1ee6f738",
   "metadata": {},
   "outputs": [
    {
     "name": "stderr",
     "output_type": "stream",
     "text": [
      "C:\\Users\\Jimit\\AppData\\Local\\Temp\\ipykernel_22424\\313334127.py:6: UserWarning: Could not infer format, so each element will be parsed individually, falling back to `dateutil`. To ensure parsing is consistent and as-expected, please specify a format.\n",
      "  df = pd.read_csv(path, index_col=0, parse_dates=True)\n",
      "C:\\Users\\Jimit\\AppData\\Local\\Temp\\ipykernel_22424\\313334127.py:6: UserWarning: Could not infer format, so each element will be parsed individually, falling back to `dateutil`. To ensure parsing is consistent and as-expected, please specify a format.\n",
      "  df = pd.read_csv(path, index_col=0, parse_dates=True)\n"
     ]
    },
    {
     "name": "stdout",
     "output_type": "stream",
     "text": [
      "✅ Processed and saved: NIFTY_1m_processed.csv\n"
     ]
    },
    {
     "name": "stderr",
     "output_type": "stream",
     "text": [
      "C:\\Users\\Jimit\\AppData\\Local\\Temp\\ipykernel_22424\\313334127.py:6: UserWarning: Could not infer format, so each element will be parsed individually, falling back to `dateutil`. To ensure parsing is consistent and as-expected, please specify a format.\n",
      "  df = pd.read_csv(path, index_col=0, parse_dates=True)\n"
     ]
    },
    {
     "name": "stdout",
     "output_type": "stream",
     "text": [
      "✅ Processed and saved: NIFTY_5m_processed.csv\n",
      "✅ Processed and saved: NIFTY_15m_processed.csv\n",
      "✅ Processed and saved: NIFTY_30m_processed.csv\n"
     ]
    },
    {
     "name": "stderr",
     "output_type": "stream",
     "text": [
      "C:\\Users\\Jimit\\AppData\\Local\\Temp\\ipykernel_22424\\313334127.py:6: UserWarning: Could not infer format, so each element will be parsed individually, falling back to `dateutil`. To ensure parsing is consistent and as-expected, please specify a format.\n",
      "  df = pd.read_csv(path, index_col=0, parse_dates=True)\n",
      "C:\\Users\\Jimit\\AppData\\Local\\Temp\\ipykernel_22424\\313334127.py:6: UserWarning: Could not infer format, so each element will be parsed individually, falling back to `dateutil`. To ensure parsing is consistent and as-expected, please specify a format.\n",
      "  df = pd.read_csv(path, index_col=0, parse_dates=True)\n",
      "C:\\Users\\Jimit\\AppData\\Local\\Temp\\ipykernel_22424\\313334127.py:6: UserWarning: Could not infer format, so each element will be parsed individually, falling back to `dateutil`. To ensure parsing is consistent and as-expected, please specify a format.\n",
      "  df = pd.read_csv(path, index_col=0, parse_dates=True)\n"
     ]
    },
    {
     "name": "stdout",
     "output_type": "stream",
     "text": [
      "✅ Processed and saved: NIFTY_60m_processed.csv\n",
      "✅ Processed and saved: BANKNIFTY_1m_processed.csv\n"
     ]
    },
    {
     "name": "stderr",
     "output_type": "stream",
     "text": [
      "C:\\Users\\Jimit\\AppData\\Local\\Temp\\ipykernel_22424\\313334127.py:6: UserWarning: Could not infer format, so each element will be parsed individually, falling back to `dateutil`. To ensure parsing is consistent and as-expected, please specify a format.\n",
      "  df = pd.read_csv(path, index_col=0, parse_dates=True)\n"
     ]
    },
    {
     "name": "stdout",
     "output_type": "stream",
     "text": [
      "✅ Processed and saved: BANKNIFTY_5m_processed.csv\n",
      "✅ Processed and saved: BANKNIFTY_15m_processed.csv\n",
      "✅ Processed and saved: BANKNIFTY_30m_processed.csv\n"
     ]
    },
    {
     "name": "stderr",
     "output_type": "stream",
     "text": [
      "C:\\Users\\Jimit\\AppData\\Local\\Temp\\ipykernel_22424\\313334127.py:6: UserWarning: Could not infer format, so each element will be parsed individually, falling back to `dateutil`. To ensure parsing is consistent and as-expected, please specify a format.\n",
      "  df = pd.read_csv(path, index_col=0, parse_dates=True)\n",
      "C:\\Users\\Jimit\\AppData\\Local\\Temp\\ipykernel_22424\\313334127.py:6: UserWarning: Could not infer format, so each element will be parsed individually, falling back to `dateutil`. To ensure parsing is consistent and as-expected, please specify a format.\n",
      "  df = pd.read_csv(path, index_col=0, parse_dates=True)\n",
      "C:\\Users\\Jimit\\AppData\\Local\\Temp\\ipykernel_22424\\313334127.py:6: UserWarning: Could not infer format, so each element will be parsed individually, falling back to `dateutil`. To ensure parsing is consistent and as-expected, please specify a format.\n",
      "  df = pd.read_csv(path, index_col=0, parse_dates=True)\n"
     ]
    },
    {
     "name": "stdout",
     "output_type": "stream",
     "text": [
      "✅ Processed and saved: BANKNIFTY_60m_processed.csv\n"
     ]
    }
   ],
   "source": [
    "os.makedirs(\"nifty_banknifty_processed\", exist_ok=True)\n",
    "\n",
    "for name in tickers:\n",
    "    for interval in intervals:\n",
    "        path = f\"nifty_banknifty_raw/{name}_{interval}_raw.csv\"\n",
    "        df = pd.read_csv(path, index_col=0, parse_dates=True)\n",
    "        df = apply_feature_engineering(df)\n",
    "        df.to_csv(f\"nifty_banknifty_processed/{name}_{interval}_processed.csv\")\n",
    "        print(f\"✅ Processed and saved: {name}_{interval}_processed.csv\")\n"
   ]
  },
  {
   "cell_type": "code",
   "execution_count": 150,
   "id": "2471cbcb",
   "metadata": {},
   "outputs": [],
   "source": [
    "def add_target_labels(df, close_col, shift_period=1, threshold_pct=0.00085):\n",
    "    df = df.copy()\n",
    "    df['future_close'] = df[close_col].shift(-shift_period)\n",
    "    df['return_pct'] = (df['future_close'] - df[close_col]) / df[close_col]\n",
    "    df['target'] = 1\n",
    "    df.loc[df['return_pct'] > threshold_pct, 'target'] = 2\n",
    "    df.loc[df['return_pct'] < -threshold_pct, 'target'] = 0\n",
    "    df.dropna(inplace=True)\n",
    "    return df\n"
   ]
  },
  {
   "cell_type": "code",
   "execution_count": 151,
   "id": "3d3051d2",
   "metadata": {},
   "outputs": [
    {
     "name": "stdout",
     "output_type": "stream",
     "text": [
      "✅ Labeled: NIFTY_1m_labeled.csv\n",
      "target\n",
      "1    0.990665\n",
      "2    0.004667\n",
      "0    0.004667\n",
      "Name: proportion, dtype: float64\n",
      "✅ Labeled: NIFTY_5m_labeled.csv\n",
      "target\n",
      "1    0.861798\n",
      "2    0.069213\n",
      "0    0.068989\n",
      "Name: proportion, dtype: float64\n",
      "✅ Labeled: NIFTY_15m_labeled.csv\n",
      "target\n",
      "1    0.685517\n",
      "0    0.158621\n",
      "2    0.155862\n",
      "Name: proportion, dtype: float64\n",
      "✅ Labeled: NIFTY_30m_labeled.csv\n",
      "target\n",
      "1    0.561194\n",
      "0    0.240299\n",
      "2    0.198507\n",
      "Name: proportion, dtype: float64\n",
      "✅ Labeled: NIFTY_60m_labeled.csv\n",
      "target\n",
      "1    0.470270\n",
      "2    0.267568\n",
      "0    0.262162\n",
      "Name: proportion, dtype: float64\n",
      "✅ Labeled: BANKNIFTY_1m_labeled.csv\n",
      "target\n",
      "1    0.993388\n",
      "2    0.003501\n",
      "0    0.003112\n",
      "Name: proportion, dtype: float64\n",
      "✅ Labeled: BANKNIFTY_5m_labeled.csv\n",
      "target\n",
      "1    0.833483\n",
      "2    0.085618\n",
      "0    0.080899\n",
      "Name: proportion, dtype: float64\n",
      "✅ Labeled: BANKNIFTY_15m_labeled.csv\n",
      "target\n",
      "1    0.641379\n",
      "0    0.186207\n",
      "2    0.172414\n",
      "Name: proportion, dtype: float64\n",
      "✅ Labeled: BANKNIFTY_30m_labeled.csv\n",
      "target\n",
      "1    0.495522\n",
      "0    0.255224\n",
      "2    0.249254\n",
      "Name: proportion, dtype: float64\n",
      "✅ Labeled: BANKNIFTY_60m_labeled.csv\n",
      "target\n",
      "1    0.437838\n",
      "0    0.289189\n",
      "2    0.272973\n",
      "Name: proportion, dtype: float64\n"
     ]
    }
   ],
   "source": [
    "os.makedirs(\"nifty_banknifty_labeled\", exist_ok=True)\n",
    "for name in tickers:\n",
    "    for interval in intervals:\n",
    "        file_path = f\"nifty_banknifty_processed/{name}_{interval}_processed.csv\"\n",
    "        df = pd.read_csv(file_path, index_col=0, parse_dates=True)\n",
    "        df = add_target_labels(df, close_col='Close')\n",
    "        df.to_csv(f\"nifty_banknifty_labeled/{name}_{interval}_labeled.csv\")\n",
    "        print(f\"✅ Labeled: {name}_{interval}_labeled.csv\")\n",
    "        print(df['target'].value_counts(normalize=True))\n",
    "\n"
   ]
  },
  {
   "cell_type": "code",
   "execution_count": 152,
   "id": "881fc4b1",
   "metadata": {},
   "outputs": [
    {
     "name": "stdout",
     "output_type": "stream",
     "text": [
      "\n",
      "📘 Training NIFTY - 5m model...\n"
     ]
    },
    {
     "name": "stderr",
     "output_type": "stream",
     "text": [
      "c:\\Users\\Jimit\\Desktop\\Course 2\\Sem 2\\Case studies\\AI_PREDICTOR\\venv\\lib\\site-packages\\xgboost\\training.py:183: UserWarning: [06:16:57] WARNING: C:\\actions-runner\\_work\\xgboost\\xgboost\\src\\learner.cc:738: \n",
      "Parameters: { \"use_label_encoder\" } are not used.\n",
      "\n",
      "  bst.update(dtrain, iteration=i, fobj=obj)\n"
     ]
    },
    {
     "name": "stdout",
     "output_type": "stream",
     "text": [
      "📊 Classification Report:\n",
      "              precision    recall  f1-score   support\n",
      "\n",
      "           0       0.15      0.03      0.05        61\n",
      "           1       0.87      0.98      0.92       767\n",
      "           2       0.12      0.03      0.05        62\n",
      "\n",
      "    accuracy                           0.85       890\n",
      "   macro avg       0.38      0.35      0.34       890\n",
      "weighted avg       0.77      0.85      0.80       890\n",
      "\n",
      "🔍 Confusion Matrix:\n",
      "[[  2  54   5]\n",
      " [  7 750  10]\n",
      " [  4  56   2]]\n",
      "✅ Model saved to final_models/NIFTY_model_5m.pkl\n",
      "\n",
      "📘 Training NIFTY - 15m model...\n"
     ]
    },
    {
     "name": "stderr",
     "output_type": "stream",
     "text": [
      "c:\\Users\\Jimit\\Desktop\\Course 2\\Sem 2\\Case studies\\AI_PREDICTOR\\venv\\lib\\site-packages\\xgboost\\training.py:183: UserWarning: [06:16:58] WARNING: C:\\actions-runner\\_work\\xgboost\\xgboost\\src\\learner.cc:738: \n",
      "Parameters: { \"use_label_encoder\" } are not used.\n",
      "\n",
      "  bst.update(dtrain, iteration=i, fobj=obj)\n"
     ]
    },
    {
     "name": "stdout",
     "output_type": "stream",
     "text": [
      "📊 Classification Report:\n",
      "              precision    recall  f1-score   support\n",
      "\n",
      "           0       0.29      0.22      0.25        46\n",
      "           1       0.72      0.85      0.78       199\n",
      "           2       0.25      0.11      0.15        45\n",
      "\n",
      "    accuracy                           0.64       290\n",
      "   macro avg       0.42      0.39      0.40       290\n",
      "weighted avg       0.58      0.64      0.60       290\n",
      "\n",
      "🔍 Confusion Matrix:\n",
      "[[ 10  32   4]\n",
      " [ 18 170  11]\n",
      " [  6  34   5]]\n",
      "✅ Model saved to final_models/NIFTY_model_15m.pkl\n",
      "\n",
      "📘 Training NIFTY - 30m model...\n"
     ]
    },
    {
     "name": "stderr",
     "output_type": "stream",
     "text": [
      "c:\\Users\\Jimit\\Desktop\\Course 2\\Sem 2\\Case studies\\AI_PREDICTOR\\venv\\lib\\site-packages\\xgboost\\training.py:183: UserWarning: [06:16:58] WARNING: C:\\actions-runner\\_work\\xgboost\\xgboost\\src\\learner.cc:738: \n",
      "Parameters: { \"use_label_encoder\" } are not used.\n",
      "\n",
      "  bst.update(dtrain, iteration=i, fobj=obj)\n"
     ]
    },
    {
     "name": "stdout",
     "output_type": "stream",
     "text": [
      "📊 Classification Report:\n",
      "              precision    recall  f1-score   support\n",
      "\n",
      "           0       0.41      0.22      0.29        32\n",
      "           1       0.62      0.81      0.70        75\n",
      "           2       0.28      0.19      0.22        27\n",
      "\n",
      "    accuracy                           0.54       134\n",
      "   macro avg       0.44      0.41      0.40       134\n",
      "weighted avg       0.50      0.54      0.51       134\n",
      "\n",
      "🔍 Confusion Matrix:\n",
      "[[ 7 18  7]\n",
      " [ 8 61  6]\n",
      " [ 2 20  5]]\n",
      "✅ Model saved to final_models/NIFTY_model_30m.pkl\n",
      "\n",
      "📘 Training NIFTY - 60m model...\n"
     ]
    },
    {
     "name": "stderr",
     "output_type": "stream",
     "text": [
      "c:\\Users\\Jimit\\Desktop\\Course 2\\Sem 2\\Case studies\\AI_PREDICTOR\\venv\\lib\\site-packages\\xgboost\\training.py:183: UserWarning: [06:16:58] WARNING: C:\\actions-runner\\_work\\xgboost\\xgboost\\src\\learner.cc:738: \n",
      "Parameters: { \"use_label_encoder\" } are not used.\n",
      "\n",
      "  bst.update(dtrain, iteration=i, fobj=obj)\n"
     ]
    },
    {
     "name": "stdout",
     "output_type": "stream",
     "text": [
      "📊 Classification Report:\n",
      "              precision    recall  f1-score   support\n",
      "\n",
      "           0       0.33      0.21      0.26        19\n",
      "           1       0.52      0.66      0.58        35\n",
      "           2       0.33      0.30      0.32        20\n",
      "\n",
      "    accuracy                           0.45        74\n",
      "   macro avg       0.40      0.39      0.39        74\n",
      "weighted avg       0.42      0.45      0.43        74\n",
      "\n",
      "🔍 Confusion Matrix:\n",
      "[[ 4 10  5]\n",
      " [ 5 23  7]\n",
      " [ 3 11  6]]\n",
      "✅ Model saved to final_models/NIFTY_model_60m.pkl\n",
      "\n",
      "📘 Training BANKNIFTY - 5m model...\n"
     ]
    },
    {
     "name": "stderr",
     "output_type": "stream",
     "text": [
      "c:\\Users\\Jimit\\Desktop\\Course 2\\Sem 2\\Case studies\\AI_PREDICTOR\\venv\\lib\\site-packages\\xgboost\\training.py:183: UserWarning: [06:16:59] WARNING: C:\\actions-runner\\_work\\xgboost\\xgboost\\src\\learner.cc:738: \n",
      "Parameters: { \"use_label_encoder\" } are not used.\n",
      "\n",
      "  bst.update(dtrain, iteration=i, fobj=obj)\n"
     ]
    },
    {
     "name": "stdout",
     "output_type": "stream",
     "text": [
      "📊 Classification Report:\n",
      "              precision    recall  f1-score   support\n",
      "\n",
      "           0       0.00      0.00      0.00        72\n",
      "           1       0.84      0.97      0.90       742\n",
      "           2       0.23      0.04      0.07        76\n",
      "\n",
      "    accuracy                           0.81       890\n",
      "   macro avg       0.36      0.34      0.32       890\n",
      "weighted avg       0.72      0.81      0.76       890\n",
      "\n",
      "🔍 Confusion Matrix:\n",
      "[[  0  70   2]\n",
      " [ 13 721   8]\n",
      " [  4  69   3]]\n",
      "✅ Model saved to final_models/BANKNIFTY_model_5m.pkl\n",
      "\n",
      "📘 Training BANKNIFTY - 15m model...\n"
     ]
    },
    {
     "name": "stderr",
     "output_type": "stream",
     "text": [
      "c:\\Users\\Jimit\\Desktop\\Course 2\\Sem 2\\Case studies\\AI_PREDICTOR\\venv\\lib\\site-packages\\xgboost\\training.py:183: UserWarning: [06:17:00] WARNING: C:\\actions-runner\\_work\\xgboost\\xgboost\\src\\learner.cc:738: \n",
      "Parameters: { \"use_label_encoder\" } are not used.\n",
      "\n",
      "  bst.update(dtrain, iteration=i, fobj=obj)\n"
     ]
    },
    {
     "name": "stdout",
     "output_type": "stream",
     "text": [
      "📊 Classification Report:\n",
      "              precision    recall  f1-score   support\n",
      "\n",
      "           0       0.17      0.09      0.12        54\n",
      "           1       0.65      0.81      0.72       186\n",
      "           2       0.11      0.06      0.08        50\n",
      "\n",
      "    accuracy                           0.54       290\n",
      "   macro avg       0.31      0.32      0.30       290\n",
      "weighted avg       0.46      0.54      0.50       290\n",
      "\n",
      "🔍 Confusion Matrix:\n",
      "[[  5  41   8]\n",
      " [ 19 150  17]\n",
      " [  6  41   3]]\n",
      "✅ Model saved to final_models/BANKNIFTY_model_15m.pkl\n",
      "\n",
      "📘 Training BANKNIFTY - 30m model...\n"
     ]
    },
    {
     "name": "stderr",
     "output_type": "stream",
     "text": [
      "c:\\Users\\Jimit\\Desktop\\Course 2\\Sem 2\\Case studies\\AI_PREDICTOR\\venv\\lib\\site-packages\\xgboost\\training.py:183: UserWarning: [06:17:00] WARNING: C:\\actions-runner\\_work\\xgboost\\xgboost\\src\\learner.cc:738: \n",
      "Parameters: { \"use_label_encoder\" } are not used.\n",
      "\n",
      "  bst.update(dtrain, iteration=i, fobj=obj)\n"
     ]
    },
    {
     "name": "stdout",
     "output_type": "stream",
     "text": [
      "📊 Classification Report:\n",
      "              precision    recall  f1-score   support\n",
      "\n",
      "           0       0.33      0.24      0.28        34\n",
      "           1       0.51      0.64      0.56        66\n",
      "           2       0.30      0.24      0.26        34\n",
      "\n",
      "    accuracy                           0.43       134\n",
      "   macro avg       0.38      0.37      0.37       134\n",
      "weighted avg       0.41      0.43      0.41       134\n",
      "\n",
      "🔍 Confusion Matrix:\n",
      "[[ 8 18  8]\n",
      " [13 42 11]\n",
      " [ 3 23  8]]\n",
      "✅ Model saved to final_models/BANKNIFTY_model_30m.pkl\n",
      "\n",
      "📘 Training BANKNIFTY - 60m model...\n"
     ]
    },
    {
     "name": "stderr",
     "output_type": "stream",
     "text": [
      "c:\\Users\\Jimit\\Desktop\\Course 2\\Sem 2\\Case studies\\AI_PREDICTOR\\venv\\lib\\site-packages\\xgboost\\training.py:183: UserWarning: [06:17:01] WARNING: C:\\actions-runner\\_work\\xgboost\\xgboost\\src\\learner.cc:738: \n",
      "Parameters: { \"use_label_encoder\" } are not used.\n",
      "\n",
      "  bst.update(dtrain, iteration=i, fobj=obj)\n"
     ]
    },
    {
     "name": "stdout",
     "output_type": "stream",
     "text": [
      "📊 Classification Report:\n",
      "              precision    recall  f1-score   support\n",
      "\n",
      "           0       0.33      0.27      0.30        22\n",
      "           1       0.46      0.59      0.52        32\n",
      "           2       0.27      0.20      0.23        20\n",
      "\n",
      "    accuracy                           0.39        74\n",
      "   macro avg       0.35      0.36      0.35        74\n",
      "weighted avg       0.37      0.39      0.38        74\n",
      "\n",
      "🔍 Confusion Matrix:\n",
      "[[ 6 11  5]\n",
      " [ 7 19  6]\n",
      " [ 5 11  4]]\n",
      "✅ Model saved to final_models/BANKNIFTY_model_60m.pkl\n"
     ]
    }
   ],
   "source": [
    "import os\n",
    "import pandas as pd\n",
    "from xgboost import XGBClassifier\n",
    "from sklearn.metrics import classification_report, confusion_matrix\n",
    "from sklearn.model_selection import train_test_split\n",
    "import joblib\n",
    "\n",
    "# Target intervals and symbols\n",
    "intervals = [\"5m\", \"15m\", \"30m\", \"60m\"]\n",
    "symbols = [\"NIFTY\", \"BANKNIFTY\"]\n",
    "\n",
    "# Ensure model output directory exists\n",
    "os.makedirs(\"final_models\", exist_ok=True)\n",
    "\n",
    "for symbol in symbols:\n",
    "    for interval in intervals:\n",
    "        print(f\"\\n📘 Training {symbol} - {interval} model...\")\n",
    "\n",
    "        # Load labeled dataset\n",
    "        path = f\"nifty_banknifty_labeled/{symbol}_{interval}_labeled.csv\"\n",
    "        if not os.path.exists(path):\n",
    "            print(f\"❌ File not found: {path}\")\n",
    "            continue\n",
    "        df = pd.read_csv(path, index_col=0, parse_dates=True)\n",
    "\n",
    "        # Drop helper columns if present\n",
    "        df.drop(columns=[col for col in ['future_close', 'return_pct'] if col in df.columns], inplace=True)\n",
    "\n",
    "        # Split features and target\n",
    "        X = df.drop(columns=['target'])\n",
    "        y = df['target']\n",
    "\n",
    "        # Sanitize data\n",
    "        for col in X.columns:\n",
    "            if X[col].dtype == 'object':\n",
    "                X[col] = pd.to_numeric(X[col], errors='coerce')\n",
    "        X = X.select_dtypes(include=['number']).fillna(0)\n",
    "\n",
    "        # Check class count\n",
    "        if y.nunique() < 2:\n",
    "            print(f\"❌ Skipping {symbol}-{interval}: Only one class in data.\")\n",
    "            continue\n",
    "        elif y.nunique() < 3:\n",
    "            print(f\"⚠️ Warning: Only classes {y.unique().tolist()} found in {symbol}-{interval}\")\n",
    "\n",
    "        # Stratified train-test split\n",
    "        try:\n",
    "            X_train, X_test, y_train, y_test = train_test_split(\n",
    "                X, y, test_size=0.2, stratify=y, random_state=42\n",
    "            )\n",
    "        except ValueError as e:\n",
    "            print(f\"⚠️ Skipping due to stratify error: {e}\")\n",
    "            continue\n",
    "\n",
    "        # Train model\n",
    "        model = XGBClassifier(use_label_encoder=False, eval_metric='mlogloss')\n",
    "        model.fit(X_train, y_train)\n",
    "\n",
    "        # Evaluate\n",
    "        y_pred = model.predict(X_test)\n",
    "        print(\"📊 Classification Report:\")\n",
    "        print(classification_report(y_test, y_pred))\n",
    "        print(\"🔍 Confusion Matrix:\")\n",
    "        print(confusion_matrix(y_test, y_pred))\n",
    "\n",
    "        # Save model\n",
    "        model_path = f\"final_models/{symbol}_model_{interval}.pkl\"\n",
    "        joblib.dump(model, model_path)\n",
    "        print(f\"✅ Model saved to {model_path}\")\n"
   ]
  },
  {
   "cell_type": "code",
   "execution_count": 153,
   "id": "e6505eae",
   "metadata": {},
   "outputs": [
    {
     "name": "stdout",
     "output_type": "stream",
     "text": [
      "📊 Final Decision for NIFTY: ⏸️ Suggest NO ACTION\n",
      "📊 Final Decision for BANKNIFTY: ⏸️ Suggest NO ACTION\n"
     ]
    }
   ],
   "source": [
    "import pandas as pd\n",
    "import joblib\n",
    "from collections import Counter\n",
    "\n",
    "# Configuration\n",
    "intervals = [\"5m\", \"15m\", \"30m\", \"60m\"]\n",
    "symbols = [\"NIFTY\", \"BANKNIFTY\"]\n",
    "model_dir = \"final_models\"\n",
    "\n",
    "# Load the latest feature set (replace this with your actual input features)\n",
    "# For testing, load last row from any labeled dataset\n",
    "def load_latest_features(symbol, interval):\n",
    "    path = f\"nifty_banknifty_labeled/{symbol}_{interval}_labeled.csv\"\n",
    "    df = pd.read_csv(path, index_col=0, parse_dates=True)\n",
    "    df.drop(columns=[col for col in ['target', 'future_close', 'return_pct'] if col in df.columns], inplace=True)\n",
    "    df = df.select_dtypes(include='number').fillna(0)\n",
    "    return df.iloc[[-1]]  # last row as latest input\n",
    "\n",
    "# Voting prediction function\n",
    "def get_final_signal(symbol):\n",
    "    votes = []\n",
    "    for interval in intervals:\n",
    "        model_path = f\"{model_dir}/{symbol}_model_{interval}.pkl\"\n",
    "        if not os.path.exists(model_path):\n",
    "            print(f\"❌ Missing model: {model_path}\")\n",
    "            continue\n",
    "        \n",
    "        model = joblib.load(model_path)\n",
    "        latest_features = load_latest_features(symbol, interval)\n",
    "        pred = model.predict(latest_features)[0]\n",
    "        votes.append(pred)\n",
    "\n",
    "    # Majority vote\n",
    "    if not votes:\n",
    "        return \"❌ No predictions available\"\n",
    "    \n",
    "    vote_count = Counter(votes)\n",
    "    final_decision = vote_count.most_common(1)[0][0]\n",
    "    \n",
    "    signal_map = {0: \"📉 Suggest PUT (PE)\", 1: \"⏸️ Suggest NO ACTION\", 2: \"📈 Suggest CALL (CE)\"}\n",
    "    return signal_map[final_decision]\n",
    "\n",
    "# Example usage\n",
    "print(\"📊 Final Decision for NIFTY:\", get_final_signal(\"NIFTY\"))\n",
    "print(\"📊 Final Decision for BANKNIFTY:\", get_final_signal(\"BANKNIFTY\"))\n"
   ]
  },
  {
   "cell_type": "code",
   "execution_count": 154,
   "id": "ae34e4b2",
   "metadata": {},
   "outputs": [
    {
     "name": "stdout",
     "output_type": "stream",
     "text": [
      "\n",
      "🧭 Frame-wise Decision for NIFTY:\n",
      "  ⏱️ 5m: ⏸️ NO ACTION\n",
      "  ⏱️ 15m: ⏸️ NO ACTION\n",
      "  ⏱️ 30m: ⏸️ NO ACTION\n",
      "  ⏱️ 60m: ⏸️ NO ACTION\n",
      "\n",
      "🧭 Frame-wise Decision for BANKNIFTY:\n",
      "  ⏱️ 5m: ⏸️ NO ACTION\n",
      "  ⏱️ 15m: ⏸️ NO ACTION\n",
      "  ⏱️ 30m: 📉 PUT\n",
      "  ⏱️ 60m: ⏸️ NO ACTION\n"
     ]
    }
   ],
   "source": [
    "# Frame-wise prediction logic\n",
    "def get_framewise_signal(symbol):\n",
    "    decisions = {}\n",
    "    for interval in intervals:\n",
    "        model_path = f\"{model_dir}/{symbol}_model_{interval}.pkl\"\n",
    "        if not os.path.exists(model_path):\n",
    "            decisions[interval] = \"❌ No model\"\n",
    "            continue\n",
    "\n",
    "        model = joblib.load(model_path)\n",
    "        latest_features = load_latest_features(symbol, interval)\n",
    "        pred = model.predict(latest_features)[0]\n",
    "\n",
    "        signal_map = {0: \"📉 PUT\", 1: \"⏸️ NO ACTION\", 2: \"📈 CALL\"}\n",
    "        decisions[interval] = signal_map.get(pred, \"❓ Unknown\")\n",
    "    \n",
    "    return decisions\n",
    "\n",
    "# Usage\n",
    "nifty_signals = get_framewise_signal(\"NIFTY\")\n",
    "banknifty_signals = get_framewise_signal(\"BANKNIFTY\")\n",
    "\n",
    "print(\"\\n🧭 Frame-wise Decision for NIFTY:\")\n",
    "for interval, signal in nifty_signals.items():\n",
    "    print(f\"  ⏱️ {interval}: {signal}\")\n",
    "\n",
    "print(\"\\n🧭 Frame-wise Decision for BANKNIFTY:\")\n",
    "for interval, signal in banknifty_signals.items():\n",
    "    print(f\"  ⏱️ {interval}: {signal}\")\n",
    "# Save final decisions to CSV for UI to read\n",
    "import os\n",
    "os.makedirs(\"final_predictions\", exist_ok=True)\n",
    "\n",
    "for symbol in [\"NIFTY\", \"BANKNIFTY\"]:\n",
    "    frame_signals = get_framewise_signal(symbol)\n",
    "    df = pd.DataFrame.from_dict(frame_signals, orient=\"index\", columns=[\"signal\"])\n",
    "    df.to_csv(f\"final_predictions/{symbol}_framewise_predictions.csv\")\n"
   ]
  }
 ],
 "metadata": {
  "kernelspec": {
   "display_name": "venv",
   "language": "python",
   "name": "python3"
  },
  "language_info": {
   "codemirror_mode": {
    "name": "ipython",
    "version": 3
   },
   "file_extension": ".py",
   "mimetype": "text/x-python",
   "name": "python",
   "nbconvert_exporter": "python",
   "pygments_lexer": "ipython3",
   "version": "3.10.0"
  }
 },
 "nbformat": 4,
 "nbformat_minor": 5
}
