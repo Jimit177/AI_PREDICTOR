{
 "cells": [
  {
   "cell_type": "markdown",
   "metadata": {},
   "source": [
    "# 📘 Options Trade Data Analysis\n",
    "This notebook explores a dataset of options trades, performing initial data inspection and Exploratory Data Analysis (EDA)."
   ]
  },
  {
   "cell_type": "code",
   "execution_count": 10,
   "metadata": {},
   "outputs": [],
   "source": [
    "import pandas as pd\n",
    "import seaborn as sns\n",
    "import matplotlib.pyplot as plt\n",
    "import numpy as np\n",
    "\n",
    "# Load the data\n",
    "df = pd.read_csv('optionsTradeData_updated.csv')\n",
    "\n",
    "# Convert date columns\n",
    "df['Date'] = pd.to_datetime(df['Date'], errors='coerce')\n",
    "df['ExpirationDate'] = pd.to_datetime(df['ExpirationDate'], errors='coerce')\n",
    "\n",
    "# Convert PnL to category\n",
    "df['pnl'] = df['pnl'].astype('category')"
   ]
  },
  {
   "cell_type": "markdown",
   "metadata": {},
   "source": [
    "## 🔍 Data Overview & Summary"
   ]
  },
  {
   "cell_type": "code",
   "execution_count": 11,
   "metadata": {},
   "outputs": [
    {
     "name": "stdout",
     "output_type": "stream",
     "text": [
      "<class 'pandas.core.frame.DataFrame'>\n",
      "RangeIndex: 62795 entries, 0 to 62794\n",
      "Data columns (total 13 columns):\n",
      " #   Column          Non-Null Count  Dtype         \n",
      "---  ------          --------------  -----         \n",
      " 0   OptionType      62795 non-null  object        \n",
      " 1   Time            62795 non-null  object        \n",
      " 2   Sym             62795 non-null  object        \n",
      " 3   Expiration      62795 non-null  object        \n",
      " 4   Strike          62795 non-null  float64       \n",
      " 5   StockPrice      62795 non-null  float64       \n",
      " 6   Date            62795 non-null  datetime64[ns]\n",
      " 7   Spent           62795 non-null  int64         \n",
      " 8   Sector          62795 non-null  object        \n",
      " 9   ExpirationDate  62783 non-null  datetime64[ns]\n",
      " 10  ChainLocation   62795 non-null  object        \n",
      " 11  pnl             62795 non-null  category      \n",
      " 12  HasKnowledge    62795 non-null  bool          \n",
      "dtypes: bool(1), category(1), datetime64[ns](2), float64(2), int64(1), object(6)\n",
      "memory usage: 5.4+ MB\n",
      "None\n"
     ]
    },
    {
     "data": {
      "text/html": [
       "<div>\n",
       "<style scoped>\n",
       "    .dataframe tbody tr th:only-of-type {\n",
       "        vertical-align: middle;\n",
       "    }\n",
       "\n",
       "    .dataframe tbody tr th {\n",
       "        vertical-align: top;\n",
       "    }\n",
       "\n",
       "    .dataframe thead th {\n",
       "        text-align: right;\n",
       "    }\n",
       "</style>\n",
       "<table border=\"1\" class=\"dataframe\">\n",
       "  <thead>\n",
       "    <tr style=\"text-align: right;\">\n",
       "      <th></th>\n",
       "      <th>OptionType</th>\n",
       "      <th>Time</th>\n",
       "      <th>Sym</th>\n",
       "      <th>Expiration</th>\n",
       "      <th>Strike</th>\n",
       "      <th>StockPrice</th>\n",
       "      <th>Date</th>\n",
       "      <th>Spent</th>\n",
       "      <th>Sector</th>\n",
       "      <th>ExpirationDate</th>\n",
       "      <th>ChainLocation</th>\n",
       "      <th>pnl</th>\n",
       "      <th>HasKnowledge</th>\n",
       "    </tr>\n",
       "  </thead>\n",
       "  <tbody>\n",
       "    <tr>\n",
       "      <th>count</th>\n",
       "      <td>62795</td>\n",
       "      <td>62795</td>\n",
       "      <td>62795</td>\n",
       "      <td>62795</td>\n",
       "      <td>62795.000000</td>\n",
       "      <td>62795.000000</td>\n",
       "      <td>62795</td>\n",
       "      <td>6.279500e+04</td>\n",
       "      <td>62795</td>\n",
       "      <td>62783</td>\n",
       "      <td>62795</td>\n",
       "      <td>62795</td>\n",
       "      <td>62795</td>\n",
       "    </tr>\n",
       "    <tr>\n",
       "      <th>unique</th>\n",
       "      <td>2</td>\n",
       "      <td>3600</td>\n",
       "      <td>2346</td>\n",
       "      <td>256</td>\n",
       "      <td>NaN</td>\n",
       "      <td>NaN</td>\n",
       "      <td>NaN</td>\n",
       "      <td>NaN</td>\n",
       "      <td>19</td>\n",
       "      <td>NaN</td>\n",
       "      <td>3</td>\n",
       "      <td>2</td>\n",
       "      <td>2</td>\n",
       "    </tr>\n",
       "    <tr>\n",
       "      <th>top</th>\n",
       "      <td>call</td>\n",
       "      <td>55:00.0</td>\n",
       "      <td>SPY</td>\n",
       "      <td>01-19 M</td>\n",
       "      <td>NaN</td>\n",
       "      <td>NaN</td>\n",
       "      <td>NaN</td>\n",
       "      <td>NaN</td>\n",
       "      <td>Technology</td>\n",
       "      <td>NaN</td>\n",
       "      <td>OTM</td>\n",
       "      <td>Loss</td>\n",
       "      <td>True</td>\n",
       "    </tr>\n",
       "    <tr>\n",
       "      <th>freq</th>\n",
       "      <td>43046</td>\n",
       "      <td>176</td>\n",
       "      <td>4455</td>\n",
       "      <td>2622</td>\n",
       "      <td>NaN</td>\n",
       "      <td>NaN</td>\n",
       "      <td>NaN</td>\n",
       "      <td>NaN</td>\n",
       "      <td>14282</td>\n",
       "      <td>NaN</td>\n",
       "      <td>51816</td>\n",
       "      <td>56102</td>\n",
       "      <td>41257</td>\n",
       "    </tr>\n",
       "    <tr>\n",
       "      <th>mean</th>\n",
       "      <td>NaN</td>\n",
       "      <td>NaN</td>\n",
       "      <td>NaN</td>\n",
       "      <td>NaN</td>\n",
       "      <td>74.799344</td>\n",
       "      <td>73.883169</td>\n",
       "      <td>2018-10-28 04:08:55.456644608</td>\n",
       "      <td>2.262895e+05</td>\n",
       "      <td>NaN</td>\n",
       "      <td>2018-12-19 10:57:01.728812032</td>\n",
       "      <td>NaN</td>\n",
       "      <td>NaN</td>\n",
       "      <td>NaN</td>\n",
       "    </tr>\n",
       "    <tr>\n",
       "      <th>min</th>\n",
       "      <td>NaN</td>\n",
       "      <td>NaN</td>\n",
       "      <td>NaN</td>\n",
       "      <td>NaN</td>\n",
       "      <td>0.500000</td>\n",
       "      <td>0.000000</td>\n",
       "      <td>2017-11-13 00:00:00</td>\n",
       "      <td>4.000000e+03</td>\n",
       "      <td>NaN</td>\n",
       "      <td>2017-11-15 00:00:00</td>\n",
       "      <td>NaN</td>\n",
       "      <td>NaN</td>\n",
       "      <td>NaN</td>\n",
       "    </tr>\n",
       "    <tr>\n",
       "      <th>25%</th>\n",
       "      <td>NaN</td>\n",
       "      <td>NaN</td>\n",
       "      <td>NaN</td>\n",
       "      <td>NaN</td>\n",
       "      <td>21.500000</td>\n",
       "      <td>20.950000</td>\n",
       "      <td>2018-06-01 00:00:00</td>\n",
       "      <td>3.600000e+04</td>\n",
       "      <td>NaN</td>\n",
       "      <td>2018-07-20 00:00:00</td>\n",
       "      <td>NaN</td>\n",
       "      <td>NaN</td>\n",
       "      <td>NaN</td>\n",
       "    </tr>\n",
       "    <tr>\n",
       "      <th>50%</th>\n",
       "      <td>NaN</td>\n",
       "      <td>NaN</td>\n",
       "      <td>NaN</td>\n",
       "      <td>NaN</td>\n",
       "      <td>41.000000</td>\n",
       "      <td>40.790000</td>\n",
       "      <td>2018-11-08 00:00:00</td>\n",
       "      <td>8.200000e+04</td>\n",
       "      <td>NaN</td>\n",
       "      <td>2018-12-21 00:00:00</td>\n",
       "      <td>NaN</td>\n",
       "      <td>NaN</td>\n",
       "      <td>NaN</td>\n",
       "    </tr>\n",
       "    <tr>\n",
       "      <th>75%</th>\n",
       "      <td>NaN</td>\n",
       "      <td>NaN</td>\n",
       "      <td>NaN</td>\n",
       "      <td>NaN</td>\n",
       "      <td>93.000000</td>\n",
       "      <td>92.195000</td>\n",
       "      <td>2019-04-03 00:00:00</td>\n",
       "      <td>1.980000e+05</td>\n",
       "      <td>NaN</td>\n",
       "      <td>2019-05-17 00:00:00</td>\n",
       "      <td>NaN</td>\n",
       "      <td>NaN</td>\n",
       "      <td>NaN</td>\n",
       "    </tr>\n",
       "    <tr>\n",
       "      <th>max</th>\n",
       "      <td>NaN</td>\n",
       "      <td>NaN</td>\n",
       "      <td>NaN</td>\n",
       "      <td>NaN</td>\n",
       "      <td>2140.000000</td>\n",
       "      <td>1939.210000</td>\n",
       "      <td>2019-08-09 00:00:00</td>\n",
       "      <td>1.591710e+08</td>\n",
       "      <td>NaN</td>\n",
       "      <td>2021-12-17 00:00:00</td>\n",
       "      <td>NaN</td>\n",
       "      <td>NaN</td>\n",
       "      <td>NaN</td>\n",
       "    </tr>\n",
       "    <tr>\n",
       "      <th>std</th>\n",
       "      <td>NaN</td>\n",
       "      <td>NaN</td>\n",
       "      <td>NaN</td>\n",
       "      <td>NaN</td>\n",
       "      <td>89.082807</td>\n",
       "      <td>87.970570</td>\n",
       "      <td>NaN</td>\n",
       "      <td>9.587021e+05</td>\n",
       "      <td>NaN</td>\n",
       "      <td>NaN</td>\n",
       "      <td>NaN</td>\n",
       "      <td>NaN</td>\n",
       "      <td>NaN</td>\n",
       "    </tr>\n",
       "  </tbody>\n",
       "</table>\n",
       "</div>"
      ],
      "text/plain": [
       "       OptionType     Time    Sym Expiration        Strike    StockPrice  \\\n",
       "count       62795    62795  62795      62795  62795.000000  62795.000000   \n",
       "unique          2     3600   2346        256           NaN           NaN   \n",
       "top          call  55:00.0    SPY    01-19 M           NaN           NaN   \n",
       "freq        43046      176   4455       2622           NaN           NaN   \n",
       "mean          NaN      NaN    NaN        NaN     74.799344     73.883169   \n",
       "min           NaN      NaN    NaN        NaN      0.500000      0.000000   \n",
       "25%           NaN      NaN    NaN        NaN     21.500000     20.950000   \n",
       "50%           NaN      NaN    NaN        NaN     41.000000     40.790000   \n",
       "75%           NaN      NaN    NaN        NaN     93.000000     92.195000   \n",
       "max           NaN      NaN    NaN        NaN   2140.000000   1939.210000   \n",
       "std           NaN      NaN    NaN        NaN     89.082807     87.970570   \n",
       "\n",
       "                                 Date         Spent      Sector  \\\n",
       "count                           62795  6.279500e+04       62795   \n",
       "unique                            NaN           NaN          19   \n",
       "top                               NaN           NaN  Technology   \n",
       "freq                              NaN           NaN       14282   \n",
       "mean    2018-10-28 04:08:55.456644608  2.262895e+05         NaN   \n",
       "min               2017-11-13 00:00:00  4.000000e+03         NaN   \n",
       "25%               2018-06-01 00:00:00  3.600000e+04         NaN   \n",
       "50%               2018-11-08 00:00:00  8.200000e+04         NaN   \n",
       "75%               2019-04-03 00:00:00  1.980000e+05         NaN   \n",
       "max               2019-08-09 00:00:00  1.591710e+08         NaN   \n",
       "std                               NaN  9.587021e+05         NaN   \n",
       "\n",
       "                       ExpirationDate ChainLocation    pnl HasKnowledge  \n",
       "count                           62783         62795  62795        62795  \n",
       "unique                            NaN             3      2            2  \n",
       "top                               NaN           OTM   Loss         True  \n",
       "freq                              NaN         51816  56102        41257  \n",
       "mean    2018-12-19 10:57:01.728812032           NaN    NaN          NaN  \n",
       "min               2017-11-15 00:00:00           NaN    NaN          NaN  \n",
       "25%               2018-07-20 00:00:00           NaN    NaN          NaN  \n",
       "50%               2018-12-21 00:00:00           NaN    NaN          NaN  \n",
       "75%               2019-05-17 00:00:00           NaN    NaN          NaN  \n",
       "max               2021-12-17 00:00:00           NaN    NaN          NaN  \n",
       "std                               NaN           NaN    NaN          NaN  "
      ]
     },
     "execution_count": 11,
     "metadata": {},
     "output_type": "execute_result"
    }
   ],
   "source": [
    "# Basic info\n",
    "print(df.info())\n",
    "df.describe(include='all')"
   ]
  },
  {
   "cell_type": "markdown",
   "metadata": {},
   "source": [
    "## 📉 Missing Values"
   ]
  },
  {
   "cell_type": "code",
   "execution_count": 12,
   "metadata": {},
   "outputs": [
    {
     "data": {
      "text/plain": [
       "OptionType         0\n",
       "Time               0\n",
       "Sym                0\n",
       "Expiration         0\n",
       "Strike             0\n",
       "StockPrice         0\n",
       "Date               0\n",
       "Spent              0\n",
       "Sector             0\n",
       "ExpirationDate    12\n",
       "ChainLocation      0\n",
       "pnl                0\n",
       "HasKnowledge       0\n",
       "dtype: int64"
      ]
     },
     "execution_count": 12,
     "metadata": {},
     "output_type": "execute_result"
    }
   ],
   "source": [
    "# Missing values\n",
    "df.isnull().sum()"
   ]
  },
  {
   "cell_type": "markdown",
   "metadata": {},
   "source": [
    "## 🎯 PnL (Target Variable) Distribution"
   ]
  },
  {
   "cell_type": "code",
   "execution_count": 13,
   "metadata": {},
   "outputs": [
    {
     "data": {
      "image/png": "[encoded data removed]",
      "text/plain": [
       "<Figure size 640x480 with 1 Axes>"
      ]
     },
     "metadata": {},
     "output_type": "display_data"
    }
   ],
   "source": [
    "sns.countplot(data=df, x='pnl')\n",
    "plt.title('PnL Distribution')\n",
    "plt.show()"
   ]
  },
  {
   "cell_type": "markdown",
   "id": "0f181e42",
   "metadata": {},
   "source": [
    "## Over 50k trades were in loss throughout the cycle"
   ]
  },
  {
   "cell_type": "code",
   "execution_count": 14,
   "id": "d5267bc5",
   "metadata": {},
   "outputs": [
    {
     "name": "stdout",
     "output_type": "stream",
     "text": [
      "Total Losing Trades: 56102\n"
     ]
    }
   ],
   "source": [
    "# Total number of losing trades\n",
    "total_losing_trades = df[df['pnl'] == 'Loss'].shape[0]\n",
    "print(\"Total Losing Trades:\", total_losing_trades)\n"
   ]
  },
  {
   "cell_type": "markdown",
   "metadata": {},
   "source": [
    "## 🔗 Chain Location vs PnL"
   ]
  },
  {
   "cell_type": "code",
   "execution_count": 15,
   "metadata": {},
   "outputs": [
    {
     "data": {
      "text/html": [
       "<div>\n",
       "<style scoped>\n",
       "    .dataframe tbody tr th:only-of-type {\n",
       "        vertical-align: middle;\n",
       "    }\n",
       "\n",
       "    .dataframe tbody tr th {\n",
       "        vertical-align: top;\n",
       "    }\n",
       "\n",
       "    .dataframe thead th {\n",
       "        text-align: right;\n",
       "    }\n",
       "</style>\n",
       "<table border=\"1\" class=\"dataframe\">\n",
       "  <thead>\n",
       "    <tr style=\"text-align: right;\">\n",
       "      <th>pnl</th>\n",
       "      <th>Loss</th>\n",
       "      <th>Profit</th>\n",
       "    </tr>\n",
       "    <tr>\n",
       "      <th>ChainLocation</th>\n",
       "      <th></th>\n",
       "      <th></th>\n",
       "    </tr>\n",
       "  </thead>\n",
       "  <tbody>\n",
       "    <tr>\n",
       "      <th>ATM</th>\n",
       "      <td>201</td>\n",
       "      <td>0</td>\n",
       "    </tr>\n",
       "    <tr>\n",
       "      <th>ITM</th>\n",
       "      <td>4085</td>\n",
       "      <td>6693</td>\n",
       "    </tr>\n",
       "    <tr>\n",
       "      <th>OTM</th>\n",
       "      <td>51816</td>\n",
       "      <td>0</td>\n",
       "    </tr>\n",
       "  </tbody>\n",
       "</table>\n",
       "</div>"
      ],
      "text/plain": [
       "pnl             Loss  Profit\n",
       "ChainLocation               \n",
       "ATM              201       0\n",
       "ITM             4085    6693\n",
       "OTM            51816       0"
      ]
     },
     "execution_count": 15,
     "metadata": {},
     "output_type": "execute_result"
    }
   ],
   "source": [
    "pd.crosstab(df['ChainLocation'], df['pnl'])"
   ]
  },
  {
   "cell_type": "code",
   "execution_count": 17,
   "metadata": {},
   "outputs": [
    {
     "data": {
      "image/png": "[encoded data removed]",
      "text/plain": [
       "<Figure size 640x480 with 1 Axes>"
      ]
     },
     "metadata": {},
     "output_type": "display_data"
    }
   ],
   "source": [
    "sns.countplot(data=df, x='ChainLocation', hue='pnl')\n",
    "plt.title('PnL vs Chain Location')\n",
    "plt.show()"
   ]
  },
  {
   "cell_type": "code",
   "execution_count": 18,
   "id": "95db693e",
   "metadata": {},
   "outputs": [
    {
     "name": "stdout",
     "output_type": "stream",
     "text": [
      "Chi-square statistic: 36155.52465493937\n",
      "Degrees of freedom: 2\n",
      "P-value: 0.0\n",
      "✅ Reject the null hypothesis: There IS a relationship between ChainLocation and PnL.\n"
     ]
    }
   ],
   "source": [
    "from scipy.stats import chi2_contingency\n",
    "\n",
    "# Cross-tab of pnl vs ChainLocation\n",
    "ct = pd.crosstab(df['pnl'], df['ChainLocation'])\n",
    "\n",
    "# Run Chi-Square Test\n",
    "chi2, p, dof, expected = chi2_contingency(ct)\n",
    "\n",
    "print(f\"Chi-square statistic: {chi2}\")\n",
    "print(f\"Degrees of freedom: {dof}\")\n",
    "print(f\"P-value: {p}\")\n",
    "\n",
    "if p < 0.05:\n",
    "    print(\"✅ Reject the null hypothesis: There IS a relationship between ChainLocation and PnL.\")\n",
    "else:\n",
    "    print(\"❌ Fail to reject the null hypothesis: No significant relationship found.\")\n"
   ]
  },
  {
   "cell_type": "markdown",
   "id": "f3dda0d3",
   "metadata": {},
   "source": [
    "We conducted a Chi-Square Test of Independence between ChainLocation and PnL (profit or loss) using OptionsTrade_EDA.ipynb.\n",
    "\n",
    "Null Hypothesis (H0): There is no relationship between chain location and trade profitability.\n",
    "\n",
    "Alternative Hypothesis (H1): Chain location influences the probability of profit or loss.\n",
    "\n",
    "### Result:\n",
    "\n",
    "P-value: 0.0\n",
    "\n",
    "Conclusion: Based on the result, we reject the null hypothesis, indicating that chain location also impact trade outcomes."
   ]
  },
  {
   "cell_type": "markdown",
   "id": "611d57d0",
   "metadata": {},
   "source": [
    "# We hypothesized that:\n",
    "\n",
    "“If AI-based decision support are introduced, the proportion of loss-making trades will fall from 12% to 6%.”"
   ]
  }
 ],
 "metadata": {
  "kernelspec": {
   "display_name": "venv",
   "language": "python",
   "name": "python3"
  },
  "language_info": {
   "codemirror_mode": {
    "name": "ipython",
    "version": 3
   },
   "file_extension": ".py",
   "mimetype": "text/x-python",
   "name": "python",
   "nbconvert_exporter": "python",
   "pygments_lexer": "ipython3",
   "version": "3.10.0"
  }
 },
 "nbformat": 4,
 "nbformat_minor": 5
}
